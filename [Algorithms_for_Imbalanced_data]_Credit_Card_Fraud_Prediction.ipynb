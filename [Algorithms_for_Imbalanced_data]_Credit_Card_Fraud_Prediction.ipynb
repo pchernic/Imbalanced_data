{
  "nbformat": 4,
  "nbformat_minor": 0,
  "metadata": {
    "colab": {
      "provenance": [],
      "toc_visible": true,
      "include_colab_link": true
    },
    "kernelspec": {
      "name": "python3",
      "display_name": "Python 3"
    },
    "language_info": {
      "name": "python"
    }
  },
  "cells": [
    {
      "cell_type": "markdown",
      "metadata": {
        "id": "view-in-github",
        "colab_type": "text"
      },
      "source": [
        "<a href=\"https://colab.research.google.com/github/pchernic/Imbalanced_data/blob/main/%5BAlgorithms_for_Imbalanced_data%5D_Credit_Card_Fraud_Prediction.ipynb\" target=\"_parent\"><img src=\"https://colab.research.google.com/assets/colab-badge.svg\" alt=\"Open In Colab\"/></a>"
      ]
    },
    {
      "cell_type": "markdown",
      "source": [
        "# Libraries"
      ],
      "metadata": {
        "id": "h-yBKEtID80_"
      }
    },
    {
      "cell_type": "code",
      "execution_count": null,
      "metadata": {
        "id": "Fo5NlVP3Dkbu"
      },
      "outputs": [],
      "source": [
        "import pandas as pd\n",
        "\n",
        "from sklearn.preprocessing import StandardScaler\n",
        "from sklearn.compose import ColumnTransformer\n",
        "from sklearn.compose import make_column_selector as selector\n",
        "\n",
        "from imblearn.pipeline import Pipeline\n",
        "from imblearn.over_sampling import RandomOverSampler, SMOTE, ADASYN\n",
        "from imblearn.under_sampling import RandomUnderSampler, NearMiss, CondensedNearestNeighbour\n",
        "\n",
        "from sklearn.linear_model import LogisticRegression\n",
        "from sklearn.neighbors import KNeighborsClassifier\n",
        "from sklearn.tree import DecisionTreeClassifier\n",
        "\n",
        "from sklearn.model_selection import train_test_split\n",
        "from sklearn.model_selection import StratifiedKFold\n",
        "from sklearn.model_selection import cross_val_score"
      ]
    },
    {
      "cell_type": "code",
      "source": [
        "from google.colab import drive\n",
        "drive.mount('/content/drive')"
      ],
      "metadata": {
        "colab": {
          "base_uri": "https://localhost:8080/"
        },
        "id": "OE6qBrGTr4pw",
        "outputId": "654bfb66-eefa-4b3a-959f-f64e57c08439"
      },
      "execution_count": null,
      "outputs": [
        {
          "output_type": "stream",
          "name": "stdout",
          "text": [
            "Drive already mounted at /content/drive; to attempt to forcibly remount, call drive.mount(\"/content/drive\", force_remount=True).\n"
          ]
        }
      ]
    },
    {
      "cell_type": "markdown",
      "source": [
        "# Loading Data\n"
      ],
      "metadata": {
        "id": "Q0ebp88kD-NJ"
      }
    },
    {
      "cell_type": "code",
      "source": [
        "df = pd.read_csv('/content/drive/MyDrive/Colab Notebooks/Imbalanced Dataset /Exercício/fraude_em_cartao_de_credito.csv')\n",
        "df.head()"
      ],
      "metadata": {
        "colab": {
          "base_uri": "https://localhost:8080/",
          "height": 255
        },
        "id": "QwIouARYD5ia",
        "outputId": "20a579b0-25e5-447f-bb3f-c70ea15295ac"
      },
      "execution_count": null,
      "outputs": [
        {
          "output_type": "execute_result",
          "data": {
            "text/plain": [
              "         f0        f1        f2        f3        f4        f5        f6  \\\n",
              "0 -0.969781 -1.650574 -0.628913 -1.691092 -1.477751 -0.628768 -0.046908   \n",
              "1 -1.224213  0.534225 -0.951029  0.375252 -0.186034  0.712699 -0.202158   \n",
              "2  0.594308  0.491569 -1.394929  1.206783  1.147946  0.571385 -0.941333   \n",
              "3  1.104081  0.253214  1.398726  1.208175  0.443822  0.102821 -0.615884   \n",
              "4  0.203884 -0.164055 -0.628322  0.236933 -0.598334  0.448331 -1.246621   \n",
              "\n",
              "         f7        f8        f9  ...       f11       f12       f13       f14  \\\n",
              "0 -1.049127  0.466186 -0.942794  ... -1.214985 -0.197611 -1.564459  0.064090   \n",
              "1  0.838773 -0.053232  1.040443  ...  0.697091 -0.068655  0.748391 -0.208193   \n",
              "2  1.246614 -0.239523 -0.663464  ...  0.685957  0.535532  0.119008  1.154772   \n",
              "3 -0.580218 -1.917046  0.761122  ... -1.216294  0.643695 -0.726431  1.646161   \n",
              "4 -1.120051 -0.917750  0.888408  ...  1.137012  0.106594 -2.681995 -1.673327   \n",
              "\n",
              "        f15       f16       f17       f18       f19  class  \n",
              "0 -0.847784 -0.411003 -0.250578 -0.936020  0.769469      0  \n",
              "1 -0.289533 -1.173952  0.993719 -0.060707 -0.965607      1  \n",
              "2 -0.504898 -0.847183 -0.689269  0.768352 -1.070108      1  \n",
              "3 -0.090221 -0.665464  0.602500  0.429398  0.748708      0  \n",
              "4  1.295357  1.022215 -0.897329 -0.374499  1.072438      0  \n",
              "\n",
              "[5 rows x 21 columns]"
            ],
            "text/html": [
              "\n",
              "  <div id=\"df-6cf18e95-cee9-454a-8d9f-82d02d2cdb30\" class=\"colab-df-container\">\n",
              "    <div>\n",
              "<style scoped>\n",
              "    .dataframe tbody tr th:only-of-type {\n",
              "        vertical-align: middle;\n",
              "    }\n",
              "\n",
              "    .dataframe tbody tr th {\n",
              "        vertical-align: top;\n",
              "    }\n",
              "\n",
              "    .dataframe thead th {\n",
              "        text-align: right;\n",
              "    }\n",
              "</style>\n",
              "<table border=\"1\" class=\"dataframe\">\n",
              "  <thead>\n",
              "    <tr style=\"text-align: right;\">\n",
              "      <th></th>\n",
              "      <th>f0</th>\n",
              "      <th>f1</th>\n",
              "      <th>f2</th>\n",
              "      <th>f3</th>\n",
              "      <th>f4</th>\n",
              "      <th>f5</th>\n",
              "      <th>f6</th>\n",
              "      <th>f7</th>\n",
              "      <th>f8</th>\n",
              "      <th>f9</th>\n",
              "      <th>...</th>\n",
              "      <th>f11</th>\n",
              "      <th>f12</th>\n",
              "      <th>f13</th>\n",
              "      <th>f14</th>\n",
              "      <th>f15</th>\n",
              "      <th>f16</th>\n",
              "      <th>f17</th>\n",
              "      <th>f18</th>\n",
              "      <th>f19</th>\n",
              "      <th>class</th>\n",
              "    </tr>\n",
              "  </thead>\n",
              "  <tbody>\n",
              "    <tr>\n",
              "      <th>0</th>\n",
              "      <td>-0.969781</td>\n",
              "      <td>-1.650574</td>\n",
              "      <td>-0.628913</td>\n",
              "      <td>-1.691092</td>\n",
              "      <td>-1.477751</td>\n",
              "      <td>-0.628768</td>\n",
              "      <td>-0.046908</td>\n",
              "      <td>-1.049127</td>\n",
              "      <td>0.466186</td>\n",
              "      <td>-0.942794</td>\n",
              "      <td>...</td>\n",
              "      <td>-1.214985</td>\n",
              "      <td>-0.197611</td>\n",
              "      <td>-1.564459</td>\n",
              "      <td>0.064090</td>\n",
              "      <td>-0.847784</td>\n",
              "      <td>-0.411003</td>\n",
              "      <td>-0.250578</td>\n",
              "      <td>-0.936020</td>\n",
              "      <td>0.769469</td>\n",
              "      <td>0</td>\n",
              "    </tr>\n",
              "    <tr>\n",
              "      <th>1</th>\n",
              "      <td>-1.224213</td>\n",
              "      <td>0.534225</td>\n",
              "      <td>-0.951029</td>\n",
              "      <td>0.375252</td>\n",
              "      <td>-0.186034</td>\n",
              "      <td>0.712699</td>\n",
              "      <td>-0.202158</td>\n",
              "      <td>0.838773</td>\n",
              "      <td>-0.053232</td>\n",
              "      <td>1.040443</td>\n",
              "      <td>...</td>\n",
              "      <td>0.697091</td>\n",
              "      <td>-0.068655</td>\n",
              "      <td>0.748391</td>\n",
              "      <td>-0.208193</td>\n",
              "      <td>-0.289533</td>\n",
              "      <td>-1.173952</td>\n",
              "      <td>0.993719</td>\n",
              "      <td>-0.060707</td>\n",
              "      <td>-0.965607</td>\n",
              "      <td>1</td>\n",
              "    </tr>\n",
              "    <tr>\n",
              "      <th>2</th>\n",
              "      <td>0.594308</td>\n",
              "      <td>0.491569</td>\n",
              "      <td>-1.394929</td>\n",
              "      <td>1.206783</td>\n",
              "      <td>1.147946</td>\n",
              "      <td>0.571385</td>\n",
              "      <td>-0.941333</td>\n",
              "      <td>1.246614</td>\n",
              "      <td>-0.239523</td>\n",
              "      <td>-0.663464</td>\n",
              "      <td>...</td>\n",
              "      <td>0.685957</td>\n",
              "      <td>0.535532</td>\n",
              "      <td>0.119008</td>\n",
              "      <td>1.154772</td>\n",
              "      <td>-0.504898</td>\n",
              "      <td>-0.847183</td>\n",
              "      <td>-0.689269</td>\n",
              "      <td>0.768352</td>\n",
              "      <td>-1.070108</td>\n",
              "      <td>1</td>\n",
              "    </tr>\n",
              "    <tr>\n",
              "      <th>3</th>\n",
              "      <td>1.104081</td>\n",
              "      <td>0.253214</td>\n",
              "      <td>1.398726</td>\n",
              "      <td>1.208175</td>\n",
              "      <td>0.443822</td>\n",
              "      <td>0.102821</td>\n",
              "      <td>-0.615884</td>\n",
              "      <td>-0.580218</td>\n",
              "      <td>-1.917046</td>\n",
              "      <td>0.761122</td>\n",
              "      <td>...</td>\n",
              "      <td>-1.216294</td>\n",
              "      <td>0.643695</td>\n",
              "      <td>-0.726431</td>\n",
              "      <td>1.646161</td>\n",
              "      <td>-0.090221</td>\n",
              "      <td>-0.665464</td>\n",
              "      <td>0.602500</td>\n",
              "      <td>0.429398</td>\n",
              "      <td>0.748708</td>\n",
              "      <td>0</td>\n",
              "    </tr>\n",
              "    <tr>\n",
              "      <th>4</th>\n",
              "      <td>0.203884</td>\n",
              "      <td>-0.164055</td>\n",
              "      <td>-0.628322</td>\n",
              "      <td>0.236933</td>\n",
              "      <td>-0.598334</td>\n",
              "      <td>0.448331</td>\n",
              "      <td>-1.246621</td>\n",
              "      <td>-1.120051</td>\n",
              "      <td>-0.917750</td>\n",
              "      <td>0.888408</td>\n",
              "      <td>...</td>\n",
              "      <td>1.137012</td>\n",
              "      <td>0.106594</td>\n",
              "      <td>-2.681995</td>\n",
              "      <td>-1.673327</td>\n",
              "      <td>1.295357</td>\n",
              "      <td>1.022215</td>\n",
              "      <td>-0.897329</td>\n",
              "      <td>-0.374499</td>\n",
              "      <td>1.072438</td>\n",
              "      <td>0</td>\n",
              "    </tr>\n",
              "  </tbody>\n",
              "</table>\n",
              "<p>5 rows × 21 columns</p>\n",
              "</div>\n",
              "    <div class=\"colab-df-buttons\">\n",
              "\n",
              "  <div class=\"colab-df-container\">\n",
              "    <button class=\"colab-df-convert\" onclick=\"convertToInteractive('df-6cf18e95-cee9-454a-8d9f-82d02d2cdb30')\"\n",
              "            title=\"Convert this dataframe to an interactive table.\"\n",
              "            style=\"display:none;\">\n",
              "\n",
              "  <svg xmlns=\"http://www.w3.org/2000/svg\" height=\"24px\" viewBox=\"0 -960 960 960\">\n",
              "    <path d=\"M120-120v-720h720v720H120Zm60-500h600v-160H180v160Zm220 220h160v-160H400v160Zm0 220h160v-160H400v160ZM180-400h160v-160H180v160Zm440 0h160v-160H620v160ZM180-180h160v-160H180v160Zm440 0h160v-160H620v160Z\"/>\n",
              "  </svg>\n",
              "    </button>\n",
              "\n",
              "  <style>\n",
              "    .colab-df-container {\n",
              "      display:flex;\n",
              "      gap: 12px;\n",
              "    }\n",
              "\n",
              "    .colab-df-convert {\n",
              "      background-color: #E8F0FE;\n",
              "      border: none;\n",
              "      border-radius: 50%;\n",
              "      cursor: pointer;\n",
              "      display: none;\n",
              "      fill: #1967D2;\n",
              "      height: 32px;\n",
              "      padding: 0 0 0 0;\n",
              "      width: 32px;\n",
              "    }\n",
              "\n",
              "    .colab-df-convert:hover {\n",
              "      background-color: #E2EBFA;\n",
              "      box-shadow: 0px 1px 2px rgba(60, 64, 67, 0.3), 0px 1px 3px 1px rgba(60, 64, 67, 0.15);\n",
              "      fill: #174EA6;\n",
              "    }\n",
              "\n",
              "    .colab-df-buttons div {\n",
              "      margin-bottom: 4px;\n",
              "    }\n",
              "\n",
              "    [theme=dark] .colab-df-convert {\n",
              "      background-color: #3B4455;\n",
              "      fill: #D2E3FC;\n",
              "    }\n",
              "\n",
              "    [theme=dark] .colab-df-convert:hover {\n",
              "      background-color: #434B5C;\n",
              "      box-shadow: 0px 1px 3px 1px rgba(0, 0, 0, 0.15);\n",
              "      filter: drop-shadow(0px 1px 2px rgba(0, 0, 0, 0.3));\n",
              "      fill: #FFFFFF;\n",
              "    }\n",
              "  </style>\n",
              "\n",
              "    <script>\n",
              "      const buttonEl =\n",
              "        document.querySelector('#df-6cf18e95-cee9-454a-8d9f-82d02d2cdb30 button.colab-df-convert');\n",
              "      buttonEl.style.display =\n",
              "        google.colab.kernel.accessAllowed ? 'block' : 'none';\n",
              "\n",
              "      async function convertToInteractive(key) {\n",
              "        const element = document.querySelector('#df-6cf18e95-cee9-454a-8d9f-82d02d2cdb30');\n",
              "        const dataTable =\n",
              "          await google.colab.kernel.invokeFunction('convertToInteractive',\n",
              "                                                    [key], {});\n",
              "        if (!dataTable) return;\n",
              "\n",
              "        const docLinkHtml = 'Like what you see? Visit the ' +\n",
              "          '<a target=\"_blank\" href=https://colab.research.google.com/notebooks/data_table.ipynb>data table notebook</a>'\n",
              "          + ' to learn more about interactive tables.';\n",
              "        element.innerHTML = '';\n",
              "        dataTable['output_type'] = 'display_data';\n",
              "        await google.colab.output.renderOutput(dataTable, element);\n",
              "        const docLink = document.createElement('div');\n",
              "        docLink.innerHTML = docLinkHtml;\n",
              "        element.appendChild(docLink);\n",
              "      }\n",
              "    </script>\n",
              "  </div>\n",
              "\n",
              "\n",
              "<div id=\"df-9ec2bf93-10e0-4be1-84f4-242e107f4ba6\">\n",
              "  <button class=\"colab-df-quickchart\" onclick=\"quickchart('df-9ec2bf93-10e0-4be1-84f4-242e107f4ba6')\"\n",
              "            title=\"Suggest charts.\"\n",
              "            style=\"display:none;\">\n",
              "\n",
              "<svg xmlns=\"http://www.w3.org/2000/svg\" height=\"24px\"viewBox=\"0 0 24 24\"\n",
              "     width=\"24px\">\n",
              "    <g>\n",
              "        <path d=\"M19 3H5c-1.1 0-2 .9-2 2v14c0 1.1.9 2 2 2h14c1.1 0 2-.9 2-2V5c0-1.1-.9-2-2-2zM9 17H7v-7h2v7zm4 0h-2V7h2v10zm4 0h-2v-4h2v4z\"/>\n",
              "    </g>\n",
              "</svg>\n",
              "  </button>\n",
              "\n",
              "<style>\n",
              "  .colab-df-quickchart {\n",
              "      --bg-color: #E8F0FE;\n",
              "      --fill-color: #1967D2;\n",
              "      --hover-bg-color: #E2EBFA;\n",
              "      --hover-fill-color: #174EA6;\n",
              "      --disabled-fill-color: #AAA;\n",
              "      --disabled-bg-color: #DDD;\n",
              "  }\n",
              "\n",
              "  [theme=dark] .colab-df-quickchart {\n",
              "      --bg-color: #3B4455;\n",
              "      --fill-color: #D2E3FC;\n",
              "      --hover-bg-color: #434B5C;\n",
              "      --hover-fill-color: #FFFFFF;\n",
              "      --disabled-bg-color: #3B4455;\n",
              "      --disabled-fill-color: #666;\n",
              "  }\n",
              "\n",
              "  .colab-df-quickchart {\n",
              "    background-color: var(--bg-color);\n",
              "    border: none;\n",
              "    border-radius: 50%;\n",
              "    cursor: pointer;\n",
              "    display: none;\n",
              "    fill: var(--fill-color);\n",
              "    height: 32px;\n",
              "    padding: 0;\n",
              "    width: 32px;\n",
              "  }\n",
              "\n",
              "  .colab-df-quickchart:hover {\n",
              "    background-color: var(--hover-bg-color);\n",
              "    box-shadow: 0 1px 2px rgba(60, 64, 67, 0.3), 0 1px 3px 1px rgba(60, 64, 67, 0.15);\n",
              "    fill: var(--button-hover-fill-color);\n",
              "  }\n",
              "\n",
              "  .colab-df-quickchart-complete:disabled,\n",
              "  .colab-df-quickchart-complete:disabled:hover {\n",
              "    background-color: var(--disabled-bg-color);\n",
              "    fill: var(--disabled-fill-color);\n",
              "    box-shadow: none;\n",
              "  }\n",
              "\n",
              "  .colab-df-spinner {\n",
              "    border: 2px solid var(--fill-color);\n",
              "    border-color: transparent;\n",
              "    border-bottom-color: var(--fill-color);\n",
              "    animation:\n",
              "      spin 1s steps(1) infinite;\n",
              "  }\n",
              "\n",
              "  @keyframes spin {\n",
              "    0% {\n",
              "      border-color: transparent;\n",
              "      border-bottom-color: var(--fill-color);\n",
              "      border-left-color: var(--fill-color);\n",
              "    }\n",
              "    20% {\n",
              "      border-color: transparent;\n",
              "      border-left-color: var(--fill-color);\n",
              "      border-top-color: var(--fill-color);\n",
              "    }\n",
              "    30% {\n",
              "      border-color: transparent;\n",
              "      border-left-color: var(--fill-color);\n",
              "      border-top-color: var(--fill-color);\n",
              "      border-right-color: var(--fill-color);\n",
              "    }\n",
              "    40% {\n",
              "      border-color: transparent;\n",
              "      border-right-color: var(--fill-color);\n",
              "      border-top-color: var(--fill-color);\n",
              "    }\n",
              "    60% {\n",
              "      border-color: transparent;\n",
              "      border-right-color: var(--fill-color);\n",
              "    }\n",
              "    80% {\n",
              "      border-color: transparent;\n",
              "      border-right-color: var(--fill-color);\n",
              "      border-bottom-color: var(--fill-color);\n",
              "    }\n",
              "    90% {\n",
              "      border-color: transparent;\n",
              "      border-bottom-color: var(--fill-color);\n",
              "    }\n",
              "  }\n",
              "</style>\n",
              "\n",
              "  <script>\n",
              "    async function quickchart(key) {\n",
              "      const quickchartButtonEl =\n",
              "        document.querySelector('#' + key + ' button');\n",
              "      quickchartButtonEl.disabled = true;  // To prevent multiple clicks.\n",
              "      quickchartButtonEl.classList.add('colab-df-spinner');\n",
              "      try {\n",
              "        const charts = await google.colab.kernel.invokeFunction(\n",
              "            'suggestCharts', [key], {});\n",
              "      } catch (error) {\n",
              "        console.error('Error during call to suggestCharts:', error);\n",
              "      }\n",
              "      quickchartButtonEl.classList.remove('colab-df-spinner');\n",
              "      quickchartButtonEl.classList.add('colab-df-quickchart-complete');\n",
              "    }\n",
              "    (() => {\n",
              "      let quickchartButtonEl =\n",
              "        document.querySelector('#df-9ec2bf93-10e0-4be1-84f4-242e107f4ba6 button');\n",
              "      quickchartButtonEl.style.display =\n",
              "        google.colab.kernel.accessAllowed ? 'block' : 'none';\n",
              "    })();\n",
              "  </script>\n",
              "</div>\n",
              "    </div>\n",
              "  </div>\n"
            ]
          },
          "metadata": {},
          "execution_count": 3
        }
      ]
    },
    {
      "cell_type": "markdown",
      "source": [
        "# Checking Distribution\n"
      ],
      "metadata": {
        "id": "Ht7H7YSeD8cF"
      }
    },
    {
      "cell_type": "code",
      "source": [
        "df['class'].value_counts(normalize=True)"
      ],
      "metadata": {
        "colab": {
          "base_uri": "https://localhost:8080/"
        },
        "id": "Whv7jG1mF3iV",
        "outputId": "32b7ca68-7c1a-4934-c51b-5fab1de421f0"
      },
      "execution_count": null,
      "outputs": [
        {
          "output_type": "execute_result",
          "data": {
            "text/plain": [
              "0    0.6804\n",
              "1    0.3196\n",
              "Name: class, dtype: float64"
            ]
          },
          "metadata": {},
          "execution_count": 4
        }
      ]
    },
    {
      "cell_type": "markdown",
      "source": [
        "# Data Understanding"
      ],
      "metadata": {
        "id": "XFeguZovF8GE"
      }
    },
    {
      "cell_type": "code",
      "source": [
        "df.dtypes"
      ],
      "metadata": {
        "colab": {
          "base_uri": "https://localhost:8080/"
        },
        "id": "_QSBWV-xF9no",
        "outputId": "3b5f8373-da91-4ad1-e68b-a274b8a3127a"
      },
      "execution_count": null,
      "outputs": [
        {
          "output_type": "execute_result",
          "data": {
            "text/plain": [
              "f0       float64\n",
              "f1       float64\n",
              "f2       float64\n",
              "f3       float64\n",
              "f4       float64\n",
              "f5       float64\n",
              "f6       float64\n",
              "f7       float64\n",
              "f8       float64\n",
              "f9       float64\n",
              "f10      float64\n",
              "f11      float64\n",
              "f12      float64\n",
              "f13      float64\n",
              "f14      float64\n",
              "f15      float64\n",
              "f16      float64\n",
              "f17      float64\n",
              "f18      float64\n",
              "f19      float64\n",
              "class      int64\n",
              "dtype: object"
            ]
          },
          "metadata": {},
          "execution_count": 5
        }
      ]
    },
    {
      "cell_type": "markdown",
      "source": [
        "# Checking nulls."
      ],
      "metadata": {
        "id": "D1oDlP6gF_TU"
      }
    },
    {
      "cell_type": "code",
      "source": [
        "df.isna().sum()"
      ],
      "metadata": {
        "colab": {
          "base_uri": "https://localhost:8080/"
        },
        "id": "BgyiU82cGCkU",
        "outputId": "1ab17b77-47ca-49b5-cdbf-020af53fbeb8"
      },
      "execution_count": null,
      "outputs": [
        {
          "output_type": "execute_result",
          "data": {
            "text/plain": [
              "f0       0\n",
              "f1       0\n",
              "f2       0\n",
              "f3       0\n",
              "f4       0\n",
              "f5       0\n",
              "f6       0\n",
              "f7       0\n",
              "f8       0\n",
              "f9       0\n",
              "f10      0\n",
              "f11      0\n",
              "f12      0\n",
              "f13      0\n",
              "f14      0\n",
              "f15      0\n",
              "f16      0\n",
              "f17      0\n",
              "f18      0\n",
              "f19      0\n",
              "class    0\n",
              "dtype: int64"
            ]
          },
          "metadata": {},
          "execution_count": 6
        }
      ]
    },
    {
      "cell_type": "markdown",
      "source": [
        "# Train-test-split"
      ],
      "metadata": {
        "id": "hHbSHWuhHDyy"
      }
    },
    {
      "cell_type": "code",
      "source": [
        "X = df.drop(columns=['class'])\n",
        "y = df['class']"
      ],
      "metadata": {
        "id": "v8ogxnlIHgSy"
      },
      "execution_count": null,
      "outputs": []
    },
    {
      "cell_type": "code",
      "source": [
        "X_train, X_test, y_train, y_test = train_test_split(X, y, stratify=y, random_state=42)"
      ],
      "metadata": {
        "id": "zWG9VW83HZ31"
      },
      "execution_count": null,
      "outputs": []
    },
    {
      "cell_type": "markdown",
      "source": [
        "# Data Pre-processing Pipeline"
      ],
      "metadata": {
        "id": "wqAniITKGQwS"
      }
    },
    {
      "cell_type": "code",
      "source": [
        "preprocessing = ColumnTransformer(\n",
        "    transformers = [('num', StandardScaler(), selector(dtype_include=['float64']))]\n",
        ")"
      ],
      "metadata": {
        "id": "98B_TQNFGZ29"
      },
      "execution_count": null,
      "outputs": []
    },
    {
      "cell_type": "markdown",
      "source": [
        "# Modeling"
      ],
      "metadata": {
        "id": "fF0xeUH3HsJU"
      }
    },
    {
      "cell_type": "markdown",
      "source": [
        "## with Imbalanced data\n"
      ],
      "metadata": {
        "id": "lMFpPWj1rUjX"
      }
    },
    {
      "cell_type": "markdown",
      "source": [
        "### Logistic Regression"
      ],
      "metadata": {
        "id": "qwW75tOjrZuG"
      }
    },
    {
      "cell_type": "code",
      "source": [
        "pipeline_lr = Pipeline(\n",
        "    [\n",
        "        ('pp', preprocessing),\n",
        "        ('lr', LogisticRegression(random_state=42))\n",
        "    ]\n",
        ")"
      ],
      "metadata": {
        "id": "JMqjjvtdHtpE"
      },
      "execution_count": null,
      "outputs": []
    },
    {
      "cell_type": "markdown",
      "source": [
        "### $k$-nearest neighbors"
      ],
      "metadata": {
        "id": "fGquJiVCrbmA"
      }
    },
    {
      "cell_type": "code",
      "source": [
        "pipeline_knn = Pipeline(\n",
        "    [\n",
        "        ('pp', preprocessing),\n",
        "        ('knn', KNeighborsClassifier())\n",
        "    ]\n",
        ")"
      ],
      "metadata": {
        "id": "ZLbrC4YLJ_p4"
      },
      "execution_count": null,
      "outputs": []
    },
    {
      "cell_type": "markdown",
      "source": [
        "### Decision Tree"
      ],
      "metadata": {
        "id": "BTXczOQWremP"
      }
    },
    {
      "cell_type": "code",
      "source": [
        "pipeline_dt = Pipeline(\n",
        "    [\n",
        "        ('pp', preprocessing),\n",
        "        ('dt', DecisionTreeClassifier(random_state=42))\n",
        "    ]\n",
        ")"
      ],
      "metadata": {
        "id": "PaF28ipkKABv"
      },
      "execution_count": null,
      "outputs": []
    },
    {
      "cell_type": "markdown",
      "source": [
        "## Random Oversampling"
      ],
      "metadata": {
        "id": "l9eNInBkroMo"
      }
    },
    {
      "cell_type": "markdown",
      "source": [
        "### Logistic Regression"
      ],
      "metadata": {
        "id": "8UjtyM29roMo"
      }
    },
    {
      "cell_type": "code",
      "source": [
        "pipeline_ros_lr = Pipeline(\n",
        "    [\n",
        "        ('pp', preprocessing),\n",
        "        ('ros', RandomOverSampler(random_state=42)),\n",
        "        ('lr', LogisticRegression(random_state=42))\n",
        "    ]\n",
        ")"
      ],
      "metadata": {
        "id": "caMiIB5groMo"
      },
      "execution_count": null,
      "outputs": []
    },
    {
      "cell_type": "markdown",
      "source": [
        "### $k$-nearest neighbors"
      ],
      "metadata": {
        "id": "ECQDXNLBroMp"
      }
    },
    {
      "cell_type": "code",
      "source": [
        "pipeline_ros_knn = Pipeline(\n",
        "    [\n",
        "        ('pp', preprocessing),\n",
        "        ('ros', RandomOverSampler(random_state=42)),\n",
        "        ('knn', KNeighborsClassifier())\n",
        "    ]\n",
        ")"
      ],
      "metadata": {
        "id": "EQB0yP_uroMp"
      },
      "execution_count": null,
      "outputs": []
    },
    {
      "cell_type": "markdown",
      "source": [
        "### Decision Tree"
      ],
      "metadata": {
        "id": "24ST3VwrroMp"
      }
    },
    {
      "cell_type": "code",
      "source": [
        "pipeline_ros_dt = Pipeline(\n",
        "    [\n",
        "        ('pp', preprocessing),\n",
        "         ('ros', RandomOverSampler(random_state=42)),\n",
        "        ('dt', DecisionTreeClassifier(random_state=42))\n",
        "    ]\n",
        ")"
      ],
      "metadata": {
        "id": "j5vSH9rKroMp"
      },
      "execution_count": null,
      "outputs": []
    },
    {
      "cell_type": "markdown",
      "source": [
        "## SMOTE - Synthetic Minority **Over-sampling** Technique.\n"
      ],
      "metadata": {
        "id": "gXvttBpJ3teW"
      }
    },
    {
      "cell_type": "markdown",
      "source": [
        "Certainly, here's a concise and professional summary of the SMOTE algorithm:\n",
        "\n",
        "**SMOTE (Synthetic Minority Over-sampling Technique)** is a data augmentation technique used to address class imbalance in machine learning. **It generates synthetic samples for the minority class by creating new data points that are similar to existing ones.** This helps balance the class distribution and improves the performance of machine learning models, **particularly in cases where one class is significantly smaller than the other.** SMOTE is a valuable tool for enhancing the fairness and effectiveness of machine learning algorithms in imbalanced datasets."
      ],
      "metadata": {
        "id": "KgKZBzAjgWNq"
      }
    },
    {
      "cell_type": "markdown",
      "source": [
        "### Logistic Regression"
      ],
      "metadata": {
        "id": "Tp7E1dBE3teb"
      }
    },
    {
      "cell_type": "code",
      "source": [
        "pipeline_smt_lr = Pipeline(\n",
        "    [\n",
        "        ('pp', preprocessing),\n",
        "        ('smt', SMOTE(random_state=42)),\n",
        "        ('lr', LogisticRegression(random_state=42))\n",
        "    ]\n",
        ")"
      ],
      "metadata": {
        "id": "NPDXDCgw3teb"
      },
      "execution_count": null,
      "outputs": []
    },
    {
      "cell_type": "markdown",
      "source": [
        "### $k$-nearest neighbors"
      ],
      "metadata": {
        "id": "Rc8ir8D-3teb"
      }
    },
    {
      "cell_type": "code",
      "source": [
        "pipeline_smt_knn = Pipeline(\n",
        "    [\n",
        "        ('pp', preprocessing),\n",
        "        ('smt', SMOTE(random_state=42)),\n",
        "        ('knn', KNeighborsClassifier())\n",
        "    ]\n",
        ")"
      ],
      "metadata": {
        "id": "p_sRJJEY3teb"
      },
      "execution_count": null,
      "outputs": []
    },
    {
      "cell_type": "markdown",
      "source": [
        "### Decision Tree"
      ],
      "metadata": {
        "id": "0WdSoGsu3teb"
      }
    },
    {
      "cell_type": "code",
      "source": [
        "pipeline_smt_dt = Pipeline(\n",
        "    [\n",
        "        ('pp', preprocessing),\n",
        "        ('smt', SMOTE(random_state=42)),\n",
        "        ('dt', DecisionTreeClassifier(random_state=42))\n",
        "    ]\n",
        ")"
      ],
      "metadata": {
        "id": "egB3VEqP3teb"
      },
      "execution_count": null,
      "outputs": []
    },
    {
      "cell_type": "markdown",
      "source": [
        "## ADASYN - Adaptive Synthetic Sampling."
      ],
      "metadata": {
        "id": "YxoHnj-yDAxE"
      }
    },
    {
      "cell_type": "markdown",
      "source": [
        "ADASYN stands for \"Adaptive Synthetic Sampling.\" It is a data preprocessing technique used to address class imbalance in machine learning datasets, particularly in classification problems.\n",
        "\n",
        "Class imbalance occurs when one class **(the minority class) has significantly fewer examples than another class (the majority class). This imbalance can lead to biased model performance**, where the model **may perform well on the majority class but poorly on the minority class.**\n",
        "\n",
        "ADASYN is designed to alleviate this issue by **generating synthetic examples for the minority class, making it more balanced with the majority class.** Unlike traditional oversampling techniques that create duplicates of existing minority class examples, **ADASYN creates synthetic samples that are similar to existing examples but not identical. It does this in an adaptive manner, focusing more on the minority class examples that are difficult to classify correctly.**\n",
        "\n",
        "Here's a simplified overview of how ADASYN works:\n",
        "\n",
        "1. **Identify Minority Class:** ADASYN starts by identifying the minority class in the dataset.\n",
        "\n",
        "2. **Calculating the Imbalance Ratio:** It calculates the imbalance ratio, which is the ratio of the number of majority class examples to the number of minority class examples.\n",
        "\n",
        "3. **Adaptive Sampling:** ADASYN then focuses on the minority class examples that are harder to classify by computing a density distribution. It gives more attention to examples that are in densely populated regions of the minority class.\n",
        "\n",
        "4. **Generating Synthetic Examples:** For each selected minority class example, ADASYN generates synthetic samples by interpolating between that example and its nearest neighbors within the minority class. These synthetic examples are added to the dataset.\n",
        "\n",
        "By generating synthetic examples for the minority class, **ADASYN aims to balance the class distribution and improve the performance of machine learning models on imbalanced datasets.**\n",
        "\n",
        "ADASYN is a popular technique for handling class imbalance, **especially in situations where the imbalance is severe or when traditional methods like random oversampling or undersampling may not be as effective.**"
      ],
      "metadata": {
        "id": "LLSZZhf9dg3I"
      }
    },
    {
      "cell_type": "markdown",
      "source": [
        "### Logistic Regression"
      ],
      "metadata": {
        "id": "41XEKIFdDAxJ"
      }
    },
    {
      "cell_type": "code",
      "source": [
        "pipeline_asy_lr = Pipeline(\n",
        "    [\n",
        "        ('pp', preprocessing),\n",
        "        ('asy', ADASYN(random_state=42)),\n",
        "        ('lr', LogisticRegression(random_state=42))\n",
        "    ]\n",
        ")"
      ],
      "metadata": {
        "id": "tqNsyXB8DAxJ"
      },
      "execution_count": null,
      "outputs": []
    },
    {
      "cell_type": "markdown",
      "source": [
        "### $k$-nearest neighbors"
      ],
      "metadata": {
        "id": "87uhF8nvDAxJ"
      }
    },
    {
      "cell_type": "code",
      "source": [
        "pipeline_asy_knn = Pipeline(\n",
        "    [\n",
        "        ('pp', preprocessing),\n",
        "        ('asy', ADASYN(random_state=42)),\n",
        "        ('knn', KNeighborsClassifier())\n",
        "    ]\n",
        ")"
      ],
      "metadata": {
        "id": "r0vcuvcYDAxK"
      },
      "execution_count": null,
      "outputs": []
    },
    {
      "cell_type": "markdown",
      "source": [
        "### Decision Tree"
      ],
      "metadata": {
        "id": "aTNLRfxjDAxK"
      }
    },
    {
      "cell_type": "code",
      "source": [
        "pipeline_asy_dt = Pipeline(\n",
        "    [\n",
        "        ('pp', preprocessing),\n",
        "        ('asy', ADASYN(random_state=42)),\n",
        "        ('dt', DecisionTreeClassifier(random_state=42))\n",
        "    ]\n",
        ")"
      ],
      "metadata": {
        "id": "pD8tCkCDDAxK"
      },
      "execution_count": null,
      "outputs": []
    },
    {
      "cell_type": "markdown",
      "source": [
        "## Random Oversampling"
      ],
      "metadata": {
        "id": "IWsuXYKOLmsU"
      }
    },
    {
      "cell_type": "markdown",
      "source": [
        "### Logistic Regression"
      ],
      "metadata": {
        "id": "ZdqoH3FbLmsa"
      }
    },
    {
      "cell_type": "code",
      "source": [
        "pipeline_rus_lr = Pipeline(\n",
        "    [\n",
        "        ('pp', preprocessing),\n",
        "        ('rus', RandomUnderSampler(random_state=42)),\n",
        "        ('lr', LogisticRegression(random_state=42))\n",
        "    ]\n",
        ")"
      ],
      "metadata": {
        "id": "w8BVWoNgLmsa"
      },
      "execution_count": null,
      "outputs": []
    },
    {
      "cell_type": "markdown",
      "source": [
        "### $k$-nearest neighbors"
      ],
      "metadata": {
        "id": "yjR8RujhLmsa"
      }
    },
    {
      "cell_type": "code",
      "source": [
        "pipeline_rus_knn = Pipeline(\n",
        "    [\n",
        "        ('pp', preprocessing),\n",
        "        ('rus', RandomUnderSampler(random_state=42)),\n",
        "        ('knn', KNeighborsClassifier())\n",
        "    ]\n",
        ")"
      ],
      "metadata": {
        "id": "gBTLQsdYLmsa"
      },
      "execution_count": null,
      "outputs": []
    },
    {
      "cell_type": "markdown",
      "source": [
        "### Decision Tree"
      ],
      "metadata": {
        "id": "Lux1GUyvLmsa"
      }
    },
    {
      "cell_type": "code",
      "source": [
        "pipeline_rus_dt = Pipeline(\n",
        "    [\n",
        "        ('pp', preprocessing),\n",
        "        ('rus', RandomUnderSampler(random_state=42)),\n",
        "        ('dt', DecisionTreeClassifier(random_state=42))\n",
        "    ]\n",
        ")"
      ],
      "metadata": {
        "id": "enMlIzmgLmsa"
      },
      "execution_count": null,
      "outputs": []
    },
    {
      "cell_type": "markdown",
      "source": [
        "## NearMiss"
      ],
      "metadata": {
        "id": "4-Axn1WyaCF4"
      }
    },
    {
      "cell_type": "markdown",
      "source": [
        "\n",
        "**Near Miss** is a data undersampling technique used to address class imbalance in machine learning. It reduces the size of the majority class by removing some of its instances, typically those that are \"near\" or similar to the minority class examples. This method helps balance the class distribution, making the dataset more suitable for training machine learning models."
      ],
      "metadata": {
        "id": "f58ruvCpkksE"
      }
    },
    {
      "cell_type": "markdown",
      "source": [
        "### NearMiss-1"
      ],
      "metadata": {
        "id": "MtJo3D_JaFf4"
      }
    },
    {
      "cell_type": "markdown",
      "source": [
        "#### Logistic Regression"
      ],
      "metadata": {
        "id": "C2E00EtFaCF9"
      }
    },
    {
      "cell_type": "code",
      "source": [
        "pipeline_nmi_1_lr = Pipeline(\n",
        "    [\n",
        "        ('pp', preprocessing),\n",
        "        ('nmi_1', NearMiss(version=1)),\n",
        "        ('lr', LogisticRegression(random_state=42))\n",
        "    ]\n",
        ")"
      ],
      "metadata": {
        "id": "dCvwzA67aCF-"
      },
      "execution_count": null,
      "outputs": []
    },
    {
      "cell_type": "markdown",
      "source": [
        "#### $k$-nearest neighbors"
      ],
      "metadata": {
        "id": "_17K538GaCF-"
      }
    },
    {
      "cell_type": "code",
      "source": [
        "pipeline_nmi_1_knn = Pipeline(\n",
        "    [\n",
        "        ('pp', preprocessing),\n",
        "        ('nmi_1', NearMiss(version=1)),\n",
        "        ('knn', KNeighborsClassifier())\n",
        "    ]\n",
        ")"
      ],
      "metadata": {
        "id": "Aqg-8UOcaCF-"
      },
      "execution_count": null,
      "outputs": []
    },
    {
      "cell_type": "markdown",
      "source": [
        "#### Decision Tree"
      ],
      "metadata": {
        "id": "gR4dkhPYaCF-"
      }
    },
    {
      "cell_type": "code",
      "source": [
        "pipeline_nmi_1_dt = Pipeline(\n",
        "    [\n",
        "        ('pp', preprocessing),\n",
        "        ('nmi_1', NearMiss(version=1)),\n",
        "        ('dt', DecisionTreeClassifier(random_state=42))\n",
        "    ]\n",
        ")"
      ],
      "metadata": {
        "id": "gwXUWSjyaCF-"
      },
      "execution_count": null,
      "outputs": []
    },
    {
      "cell_type": "markdown",
      "source": [
        "### NearMiss-2"
      ],
      "metadata": {
        "id": "K60Ib8SRaW9I"
      }
    },
    {
      "cell_type": "markdown",
      "source": [
        "#### Logistic Regression"
      ],
      "metadata": {
        "id": "nnF9fNOtaW9I"
      }
    },
    {
      "cell_type": "code",
      "source": [
        "pipeline_nmi_2_lr = Pipeline(\n",
        "    [\n",
        "        ('pp', preprocessing),\n",
        "        ('nmi_2', NearMiss(version=2)),\n",
        "        ('lr', LogisticRegression(random_state=42))\n",
        "    ]\n",
        ")"
      ],
      "metadata": {
        "id": "gUa7Nh3OaW9I"
      },
      "execution_count": null,
      "outputs": []
    },
    {
      "cell_type": "markdown",
      "source": [
        "#### $k$-nearest neighbors"
      ],
      "metadata": {
        "id": "W_WB0Jm6aW9J"
      }
    },
    {
      "cell_type": "code",
      "source": [
        "pipeline_nmi_2_knn = Pipeline(\n",
        "    [\n",
        "        ('pp', preprocessing),\n",
        "        ('nmi_2', NearMiss(version=2)),\n",
        "        ('knn', KNeighborsClassifier())\n",
        "    ]\n",
        ")"
      ],
      "metadata": {
        "id": "8znYE3JbaW9J"
      },
      "execution_count": null,
      "outputs": []
    },
    {
      "cell_type": "markdown",
      "source": [
        "#### Decision Tree"
      ],
      "metadata": {
        "id": "0BOrvUcbaW9J"
      }
    },
    {
      "cell_type": "code",
      "source": [
        "pipeline_nmi_2_dt = Pipeline(\n",
        "    [\n",
        "        ('pp', preprocessing),\n",
        "        ('nmi_2', NearMiss(version=2)),\n",
        "        ('dt', DecisionTreeClassifier(random_state=42))\n",
        "    ]\n",
        ")"
      ],
      "metadata": {
        "id": "dUPSKqazaW9J"
      },
      "execution_count": null,
      "outputs": []
    },
    {
      "cell_type": "markdown",
      "source": [
        "### NearMiss-3"
      ],
      "metadata": {
        "id": "AIFNtdL1aXnh"
      }
    },
    {
      "cell_type": "markdown",
      "source": [
        "#### Logistic Regression"
      ],
      "metadata": {
        "id": "A4UlNriyaXni"
      }
    },
    {
      "cell_type": "code",
      "source": [
        "pipeline_nmi_3_lr = Pipeline(\n",
        "    [\n",
        "        ('pp', preprocessing),\n",
        "        ('nmi_3', NearMiss(version=3)),\n",
        "        ('lr', LogisticRegression(random_state=42))\n",
        "    ]\n",
        ")"
      ],
      "metadata": {
        "id": "oa19Vj7DaXni"
      },
      "execution_count": null,
      "outputs": []
    },
    {
      "cell_type": "markdown",
      "source": [
        "#### $k$-nearest neighbors"
      ],
      "metadata": {
        "id": "XiAQkfdDaXni"
      }
    },
    {
      "cell_type": "code",
      "source": [
        "pipeline_nmi_3_knn = Pipeline(\n",
        "    [\n",
        "        ('pp', preprocessing),\n",
        "        ('nmi_3', NearMiss(version=3)),\n",
        "        ('knn', KNeighborsClassifier())\n",
        "    ]\n",
        ")"
      ],
      "metadata": {
        "id": "1DXTQXwpaXni"
      },
      "execution_count": null,
      "outputs": []
    },
    {
      "cell_type": "markdown",
      "source": [
        "#### Decision Tree"
      ],
      "metadata": {
        "id": "18Ly2rK1aXni"
      }
    },
    {
      "cell_type": "code",
      "source": [
        "pipeline_nmi_3_dt = Pipeline(\n",
        "    [\n",
        "        ('pp', preprocessing),\n",
        "        ('nmi_3', NearMiss(version=3)),\n",
        "        ('dt', DecisionTreeClassifier(random_state=42))\n",
        "    ]\n",
        ")"
      ],
      "metadata": {
        "id": "wVGGfET4aXni"
      },
      "execution_count": null,
      "outputs": []
    },
    {
      "cell_type": "markdown",
      "source": [
        "## CNN - Condensed Nearest Neighbours"
      ],
      "metadata": {
        "id": "5Vz3Un3DmI18"
      }
    },
    {
      "cell_type": "markdown",
      "source": [
        "### Logistic Regression"
      ],
      "metadata": {
        "id": "RPstSffhmI2B"
      }
    },
    {
      "cell_type": "code",
      "source": [
        "pipeline_cnn_lr = Pipeline(\n",
        "    [\n",
        "        ('pp', preprocessing),\n",
        "        ('cnn', CondensedNearestNeighbour(random_state=42, n_jobs=-1)),\n",
        "        ('lr', LogisticRegression(random_state=42))\n",
        "    ]\n",
        ")"
      ],
      "metadata": {
        "id": "tpIEPn44mI2C"
      },
      "execution_count": null,
      "outputs": []
    },
    {
      "cell_type": "markdown",
      "source": [
        "### $k$-nearest neighbors"
      ],
      "metadata": {
        "id": "sqjzxfXmmI2C"
      }
    },
    {
      "cell_type": "code",
      "source": [
        "pipeline_cnn_knn = Pipeline(\n",
        "    [\n",
        "        ('pp', preprocessing),\n",
        "        ('cnn', CondensedNearestNeighbour(random_state=42, n_jobs=-1)),\n",
        "        ('knn', KNeighborsClassifier())\n",
        "    ]\n",
        ")"
      ],
      "metadata": {
        "id": "gES4O0MImI2C"
      },
      "execution_count": null,
      "outputs": []
    },
    {
      "cell_type": "markdown",
      "source": [
        "### Decision Tree"
      ],
      "metadata": {
        "id": "8HgfkM6vmI2C"
      }
    },
    {
      "cell_type": "code",
      "source": [
        "pipeline_cnn_dt = Pipeline(\n",
        "    [\n",
        "        ('pp', preprocessing),\n",
        "        ('cnn', CondensedNearestNeighbour(random_state=42, n_jobs=-1)),\n",
        "        ('dt', DecisionTreeClassifier(random_state=42))\n",
        "    ]\n",
        ")"
      ],
      "metadata": {
        "id": "agm87FgKmI2C"
      },
      "execution_count": null,
      "outputs": []
    },
    {
      "cell_type": "markdown",
      "source": [
        "# Assessing Models"
      ],
      "metadata": {
        "id": "rEDHat97H6mf"
      }
    },
    {
      "cell_type": "code",
      "source": [
        "skf  = StratifiedKFold(n_splits=10, shuffle=True, random_state=42)"
      ],
      "metadata": {
        "id": "7rpEHb4RIGpV"
      },
      "execution_count": null,
      "outputs": []
    },
    {
      "cell_type": "markdown",
      "source": [
        "## Imbalanced data"
      ],
      "metadata": {
        "id": "xHWKlSaXsElE"
      }
    },
    {
      "cell_type": "code",
      "source": [
        "res = cross_val_score(pipeline_lr, X_train, y_train, cv=skf, scoring='f1')\n",
        "res.mean()"
      ],
      "metadata": {
        "colab": {
          "base_uri": "https://localhost:8080/"
        },
        "id": "P0MBvmLlH9K0",
        "outputId": "07fdf381-0b25-4560-9cf5-f05502ddcfcb"
      },
      "execution_count": null,
      "outputs": [
        {
          "output_type": "execute_result",
          "data": {
            "text/plain": [
              "0.8093817602174468"
            ]
          },
          "metadata": {},
          "execution_count": 38
        }
      ]
    },
    {
      "cell_type": "code",
      "source": [
        "res = cross_val_score(pipeline_knn, X_train, y_train, cv=skf, scoring='f1')\n",
        "res.mean()"
      ],
      "metadata": {
        "colab": {
          "base_uri": "https://localhost:8080/"
        },
        "id": "Ya3spS2yINEa",
        "outputId": "c328eddc-a079-4c42-d816-9dc2bebc6a04"
      },
      "execution_count": null,
      "outputs": [
        {
          "output_type": "execute_result",
          "data": {
            "text/plain": [
              "0.7250687770995903"
            ]
          },
          "metadata": {},
          "execution_count": 39
        }
      ]
    },
    {
      "cell_type": "code",
      "source": [
        "res = cross_val_score(pipeline_dt, X_train, y_train, cv=skf, scoring='f1')\n",
        "res.mean()"
      ],
      "metadata": {
        "colab": {
          "base_uri": "https://localhost:8080/"
        },
        "id": "3pefWfipKJ2w",
        "outputId": "c26e3b83-3a4b-4659-8935-253e142c3420"
      },
      "execution_count": null,
      "outputs": [
        {
          "output_type": "execute_result",
          "data": {
            "text/plain": [
              "0.7697192549892733"
            ]
          },
          "metadata": {},
          "execution_count": 40
        }
      ]
    },
    {
      "cell_type": "markdown",
      "source": [
        "## Random Oversampling"
      ],
      "metadata": {
        "id": "qgRN7FfaKMtv"
      }
    },
    {
      "cell_type": "code",
      "source": [
        "res = cross_val_score(pipeline_ros_lr, X_train, y_train, cv=skf, scoring='f1')\n",
        "res.mean()"
      ],
      "metadata": {
        "colab": {
          "base_uri": "https://localhost:8080/"
        },
        "id": "5wSpnXNRsJVU",
        "outputId": "dc5cf3bf-1cc3-4a23-d3d2-49d1eff1e4dd"
      },
      "execution_count": null,
      "outputs": [
        {
          "output_type": "execute_result",
          "data": {
            "text/plain": [
              "0.7953494626770745"
            ]
          },
          "metadata": {},
          "execution_count": 41
        }
      ]
    },
    {
      "cell_type": "code",
      "source": [
        "res = cross_val_score(pipeline_ros_knn, X_train, y_train, cv=skf, scoring='f1')\n",
        "res.mean()"
      ],
      "metadata": {
        "colab": {
          "base_uri": "https://localhost:8080/"
        },
        "id": "ElZ-1GiLsMK-",
        "outputId": "4196139f-895a-43aa-8065-30781d0423e4"
      },
      "execution_count": null,
      "outputs": [
        {
          "output_type": "execute_result",
          "data": {
            "text/plain": [
              "0.7243561438185071"
            ]
          },
          "metadata": {},
          "execution_count": 42
        }
      ]
    },
    {
      "cell_type": "code",
      "source": [
        "res = cross_val_score(pipeline_ros_dt, X_train, y_train, cv=skf, scoring='f1')\n",
        "res.mean()"
      ],
      "metadata": {
        "colab": {
          "base_uri": "https://localhost:8080/"
        },
        "id": "TtRe4_josMih",
        "outputId": "84b23f23-69cf-4fdc-adb2-3cf15f18935d"
      },
      "execution_count": null,
      "outputs": [
        {
          "output_type": "execute_result",
          "data": {
            "text/plain": [
              "0.762497049863646"
            ]
          },
          "metadata": {},
          "execution_count": 43
        }
      ]
    },
    {
      "cell_type": "markdown",
      "source": [
        "## SMOTE"
      ],
      "metadata": {
        "id": "p9bXB3vl36W3"
      }
    },
    {
      "cell_type": "code",
      "source": [
        "res = cross_val_score(pipeline_smt_lr, X_train, y_train, cv=skf, scoring='f1')\n",
        "res.mean()"
      ],
      "metadata": {
        "colab": {
          "base_uri": "https://localhost:8080/"
        },
        "outputId": "81e8d2c0-ac37-4e04-d72a-fc323305b964",
        "id": "3H5vMgl936W3"
      },
      "execution_count": null,
      "outputs": [
        {
          "output_type": "execute_result",
          "data": {
            "text/plain": [
              "0.7960658655650577"
            ]
          },
          "metadata": {},
          "execution_count": 44
        }
      ]
    },
    {
      "cell_type": "code",
      "source": [
        "res = cross_val_score(pipeline_smt_knn, X_train, y_train, cv=skf, scoring='f1')\n",
        "res.mean()"
      ],
      "metadata": {
        "colab": {
          "base_uri": "https://localhost:8080/"
        },
        "outputId": "6b2c42b6-839f-43b4-99f5-60bc45609076",
        "id": "YnhMkjGP36W4"
      },
      "execution_count": null,
      "outputs": [
        {
          "output_type": "execute_result",
          "data": {
            "text/plain": [
              "0.729924881268291"
            ]
          },
          "metadata": {},
          "execution_count": 45
        }
      ]
    },
    {
      "cell_type": "code",
      "source": [
        "res = cross_val_score(pipeline_smt_dt, X_train, y_train, cv=skf, scoring='f1')\n",
        "res.mean()"
      ],
      "metadata": {
        "colab": {
          "base_uri": "https://localhost:8080/"
        },
        "outputId": "0cc9f657-b63e-4e8e-8a84-951a2aecdea1",
        "id": "TmrUJ87G36W4"
      },
      "execution_count": null,
      "outputs": [
        {
          "output_type": "execute_result",
          "data": {
            "text/plain": [
              "0.7591965332201513"
            ]
          },
          "metadata": {},
          "execution_count": 46
        }
      ]
    },
    {
      "cell_type": "markdown",
      "source": [
        "## ADASYN"
      ],
      "metadata": {
        "id": "r0xEo1Y5DLDY"
      }
    },
    {
      "cell_type": "code",
      "source": [
        "res = cross_val_score(pipeline_asy_lr, X_train, y_train, cv=skf, scoring='f1')\n",
        "res.mean()"
      ],
      "metadata": {
        "colab": {
          "base_uri": "https://localhost:8080/"
        },
        "outputId": "ecbc6741-26da-42b4-b51c-7ad0d7c7a8d7",
        "id": "iGEqT3ZKDLDd"
      },
      "execution_count": null,
      "outputs": [
        {
          "output_type": "execute_result",
          "data": {
            "text/plain": [
              "0.7886695606299362"
            ]
          },
          "metadata": {},
          "execution_count": 47
        }
      ]
    },
    {
      "cell_type": "code",
      "source": [
        "res = cross_val_score(pipeline_asy_knn, X_train, y_train, cv=skf, scoring='f1')\n",
        "res.mean()"
      ],
      "metadata": {
        "colab": {
          "base_uri": "https://localhost:8080/"
        },
        "outputId": "85848f29-cf05-4fc7-905a-8dfbb1662686",
        "id": "1wRCv6V3DLDd"
      },
      "execution_count": null,
      "outputs": [
        {
          "output_type": "execute_result",
          "data": {
            "text/plain": [
              "0.7185772080158916"
            ]
          },
          "metadata": {},
          "execution_count": 48
        }
      ]
    },
    {
      "cell_type": "code",
      "source": [
        "res = cross_val_score(pipeline_asy_dt, X_train, y_train, cv=skf, scoring='f1')\n",
        "res.mean()"
      ],
      "metadata": {
        "colab": {
          "base_uri": "https://localhost:8080/"
        },
        "outputId": "55f69ea5-cd6d-451d-e7fb-e7d098a8a2ac",
        "id": "GihjREeFDLDd"
      },
      "execution_count": null,
      "outputs": [
        {
          "output_type": "execute_result",
          "data": {
            "text/plain": [
              "0.7606064757933844"
            ]
          },
          "metadata": {},
          "execution_count": 49
        }
      ]
    },
    {
      "cell_type": "markdown",
      "source": [
        "## Random Undersampling"
      ],
      "metadata": {
        "id": "OfCaJ02ILwvN"
      }
    },
    {
      "cell_type": "code",
      "source": [
        "res = cross_val_score(pipeline_rus_lr, X_train, y_train, cv=skf, scoring='f1')\n",
        "res.mean()"
      ],
      "metadata": {
        "colab": {
          "base_uri": "https://localhost:8080/"
        },
        "outputId": "7050193e-dba7-4418-c4b1-968eacf1fdd6",
        "id": "zOfyLwhfLwvO"
      },
      "execution_count": null,
      "outputs": [
        {
          "output_type": "execute_result",
          "data": {
            "text/plain": [
              "0.7946931528697699"
            ]
          },
          "metadata": {},
          "execution_count": 50
        }
      ]
    },
    {
      "cell_type": "code",
      "source": [
        "res = cross_val_score(pipeline_rus_knn, X_train, y_train, cv=skf, scoring='f1')\n",
        "res.mean()"
      ],
      "metadata": {
        "colab": {
          "base_uri": "https://localhost:8080/"
        },
        "outputId": "fe786be3-06dd-40fa-ed77-1368a8d11720",
        "id": "jVm8CK0yLwvO"
      },
      "execution_count": null,
      "outputs": [
        {
          "output_type": "execute_result",
          "data": {
            "text/plain": [
              "0.7515877819011731"
            ]
          },
          "metadata": {},
          "execution_count": 51
        }
      ]
    },
    {
      "cell_type": "code",
      "source": [
        "res = cross_val_score(pipeline_rus_dt, X_train, y_train, cv=skf, scoring='f1')\n",
        "res.mean()"
      ],
      "metadata": {
        "colab": {
          "base_uri": "https://localhost:8080/"
        },
        "outputId": "5fdf5cba-037e-492d-ef3b-93a3e15c6230",
        "id": "VAdtzPOJLwvO"
      },
      "execution_count": null,
      "outputs": [
        {
          "output_type": "execute_result",
          "data": {
            "text/plain": [
              "0.7629057650658486"
            ]
          },
          "metadata": {},
          "execution_count": 52
        }
      ]
    },
    {
      "cell_type": "markdown",
      "source": [
        "## NearMiss"
      ],
      "metadata": {
        "id": "lF-HA5qsalC1"
      }
    },
    {
      "cell_type": "markdown",
      "source": [
        "### NearMiss-1"
      ],
      "metadata": {
        "id": "k6dX8B58anbH"
      }
    },
    {
      "cell_type": "code",
      "source": [
        "res = cross_val_score(pipeline_nmi_1_lr, X_train, y_train, cv=skf, scoring='f1')\n",
        "res.mean()"
      ],
      "metadata": {
        "colab": {
          "base_uri": "https://localhost:8080/"
        },
        "outputId": "88d2716a-981b-476a-8e6d-32d66ef9afe9",
        "id": "5AZ-gjEJalC2"
      },
      "execution_count": null,
      "outputs": [
        {
          "output_type": "execute_result",
          "data": {
            "text/plain": [
              "0.8115848250943181"
            ]
          },
          "metadata": {},
          "execution_count": 53
        }
      ]
    },
    {
      "cell_type": "code",
      "source": [
        "res = cross_val_score(pipeline_nmi_1_knn, X_train, y_train, cv=skf, scoring='f1')\n",
        "res.mean()"
      ],
      "metadata": {
        "colab": {
          "base_uri": "https://localhost:8080/"
        },
        "outputId": "f3136ede-503f-4b8e-9bc8-a2f2cf63ce8a",
        "id": "DQd2ZZ_DalC3"
      },
      "execution_count": null,
      "outputs": [
        {
          "output_type": "execute_result",
          "data": {
            "text/plain": [
              "0.7259710343593008"
            ]
          },
          "metadata": {},
          "execution_count": 54
        }
      ]
    },
    {
      "cell_type": "code",
      "source": [
        "res = cross_val_score(pipeline_nmi_1_dt, X_train, y_train, cv=skf, scoring='f1')\n",
        "res.mean()"
      ],
      "metadata": {
        "colab": {
          "base_uri": "https://localhost:8080/"
        },
        "outputId": "0d02cabf-b421-48fb-c6e7-b457c008b3d8",
        "id": "SmKGMpCBalC3"
      },
      "execution_count": null,
      "outputs": [
        {
          "output_type": "execute_result",
          "data": {
            "text/plain": [
              "0.6984638745509862"
            ]
          },
          "metadata": {},
          "execution_count": 55
        }
      ]
    },
    {
      "cell_type": "markdown",
      "source": [
        "### NearMiss-2"
      ],
      "metadata": {
        "id": "SdBi8ijJawjN"
      }
    },
    {
      "cell_type": "code",
      "source": [
        "res = cross_val_score(pipeline_nmi_2_lr, X_train, y_train, cv=skf, scoring='f1')\n",
        "res.mean()"
      ],
      "metadata": {
        "colab": {
          "base_uri": "https://localhost:8080/"
        },
        "outputId": "5cf8087e-8ef6-4bed-db0e-70237b77cff3",
        "id": "lIXduZXeawjN"
      },
      "execution_count": null,
      "outputs": [
        {
          "output_type": "execute_result",
          "data": {
            "text/plain": [
              "0.8081179918725347"
            ]
          },
          "metadata": {},
          "execution_count": 56
        }
      ]
    },
    {
      "cell_type": "code",
      "source": [
        "res = cross_val_score(pipeline_nmi_2_knn, X_train, y_train, cv=skf, scoring='f1')\n",
        "res.mean()"
      ],
      "metadata": {
        "colab": {
          "base_uri": "https://localhost:8080/"
        },
        "outputId": "5cb8c0f3-5b86-4825-81d9-3092306a1acc",
        "id": "ucRB3JHmawjN"
      },
      "execution_count": null,
      "outputs": [
        {
          "output_type": "execute_result",
          "data": {
            "text/plain": [
              "0.7337825854408814"
            ]
          },
          "metadata": {},
          "execution_count": 57
        }
      ]
    },
    {
      "cell_type": "code",
      "source": [
        "res = cross_val_score(pipeline_nmi_2_dt, X_train, y_train, cv=skf, scoring='f1')\n",
        "res.mean()"
      ],
      "metadata": {
        "colab": {
          "base_uri": "https://localhost:8080/"
        },
        "outputId": "57154952-2f33-4fa1-bee7-5b7ddeb645b6",
        "id": "kOSw7_ixawjN"
      },
      "execution_count": null,
      "outputs": [
        {
          "output_type": "execute_result",
          "data": {
            "text/plain": [
              "0.6807891049172505"
            ]
          },
          "metadata": {},
          "execution_count": 58
        }
      ]
    },
    {
      "cell_type": "markdown",
      "source": [
        "### NearMiss-3"
      ],
      "metadata": {
        "id": "dO-MkBb0aw8V"
      }
    },
    {
      "cell_type": "code",
      "source": [
        "from warnings import simplefilter\n",
        "simplefilter(action='ignore', category=UserWarning)\n",
        "\n",
        "res = cross_val_score(pipeline_nmi_3_lr, X_train, y_train, cv=skf, scoring='f1')\n",
        "res.mean()"
      ],
      "metadata": {
        "colab": {
          "base_uri": "https://localhost:8080/"
        },
        "outputId": "ffc54017-0fff-427b-a45f-967b8ac547af",
        "id": "y7-sisVkaw8V"
      },
      "execution_count": null,
      "outputs": [
        {
          "output_type": "execute_result",
          "data": {
            "text/plain": [
              "0.807326452489813"
            ]
          },
          "metadata": {},
          "execution_count": 59
        }
      ]
    },
    {
      "cell_type": "code",
      "source": [
        "res = cross_val_score(pipeline_nmi_3_knn, X_train, y_train, cv=skf, scoring='f1')\n",
        "res.mean()"
      ],
      "metadata": {
        "colab": {
          "base_uri": "https://localhost:8080/"
        },
        "outputId": "4f304ea9-adf0-48f6-8d86-ac77ee7cbe51",
        "id": "MBKML9Djaw8V"
      },
      "execution_count": null,
      "outputs": [
        {
          "output_type": "execute_result",
          "data": {
            "text/plain": [
              "0.7217220767607773"
            ]
          },
          "metadata": {},
          "execution_count": 60
        }
      ]
    },
    {
      "cell_type": "code",
      "source": [
        "res = cross_val_score(pipeline_nmi_3_dt, X_train, y_train, cv=skf, scoring='f1')\n",
        "res.mean()"
      ],
      "metadata": {
        "colab": {
          "base_uri": "https://localhost:8080/"
        },
        "outputId": "1b9952af-9333-451a-a851-605fb4586261",
        "id": "HK0jrybGaw8V"
      },
      "execution_count": null,
      "outputs": [
        {
          "output_type": "execute_result",
          "data": {
            "text/plain": [
              "0.6935638552977393"
            ]
          },
          "metadata": {},
          "execution_count": 61
        }
      ]
    },
    {
      "cell_type": "markdown",
      "source": [
        "## CNN"
      ],
      "metadata": {
        "id": "ZCqQsQ2hmViC"
      }
    },
    {
      "cell_type": "code",
      "source": [
        "res = cross_val_score(pipeline_cnn_lr, X_train, y_train, cv=skf, scoring='f1', n_jobs=-1)\n",
        "res.mean()"
      ],
      "metadata": {
        "colab": {
          "base_uri": "https://localhost:8080/"
        },
        "outputId": "829a9b7c-0601-4514-e51d-cea4b2f60bcb",
        "id": "8kN7p3yUmViD"
      },
      "execution_count": null,
      "outputs": [
        {
          "output_type": "execute_result",
          "data": {
            "text/plain": [
              "0.7903485797981264"
            ]
          },
          "metadata": {},
          "execution_count": 62
        }
      ]
    },
    {
      "cell_type": "code",
      "source": [
        "res = cross_val_score(pipeline_cnn_knn, X_train, y_train, cv=skf, scoring='f1', n_jobs=-1)\n",
        "res.mean()"
      ],
      "metadata": {
        "colab": {
          "base_uri": "https://localhost:8080/"
        },
        "outputId": "a27752b6-59fa-48a3-a6f1-db8f167ca54e",
        "id": "4rshqGnZmViD"
      },
      "execution_count": null,
      "outputs": [
        {
          "output_type": "execute_result",
          "data": {
            "text/plain": [
              "0.7278781791313544"
            ]
          },
          "metadata": {},
          "execution_count": 63
        }
      ]
    },
    {
      "cell_type": "code",
      "source": [
        "res = cross_val_score(pipeline_cnn_dt, X_train, y_train, cv=skf, scoring='f1', n_jobs=-1)\n",
        "res.mean()"
      ],
      "metadata": {
        "colab": {
          "base_uri": "https://localhost:8080/"
        },
        "outputId": "de7e10bf-24d9-4e1b-a4c4-efd09cca2b3d",
        "id": "Uq-eo_-JmViD"
      },
      "execution_count": null,
      "outputs": [
        {
          "output_type": "execute_result",
          "data": {
            "text/plain": [
              "0.7300744757707818"
            ]
          },
          "metadata": {},
          "execution_count": 64
        }
      ]
    }
  ]
}