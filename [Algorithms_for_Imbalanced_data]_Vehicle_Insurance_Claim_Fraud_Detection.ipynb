{
  "nbformat": 4,
  "nbformat_minor": 0,
  "metadata": {
    "colab": {
      "provenance": [],
      "toc_visible": true,
      "include_colab_link": true
    },
    "kernelspec": {
      "name": "python3",
      "display_name": "Python 3"
    },
    "language_info": {
      "name": "python"
    }
  },
  "cells": [
    {
      "cell_type": "markdown",
      "metadata": {
        "id": "view-in-github",
        "colab_type": "text"
      },
      "source": [
        "<a href=\"https://colab.research.google.com/github/pchernic/Imbalanced_data/blob/main/%5BAlgorithms_for_Imbalanced_data%5D_Vehicle_Insurance_Claim_Fraud_Detection.ipynb\" target=\"_parent\"><img src=\"https://colab.research.google.com/assets/colab-badge.svg\" alt=\"Open In Colab\"/></a>"
      ]
    },
    {
      "cell_type": "markdown",
      "source": [
        "# Vehicle Insurance Claim Fraud Detection"
      ],
      "metadata": {
        "id": "2cSs1ozlTDZc"
      }
    },
    {
      "cell_type": "markdown",
      "source": [
        "In order to reduce costs, an insurance company is restructuring the process of fraud analysis for automobile insurance claims. This type of fraud occurs as follows: the policyholder files an insurance claim, alleging an accident and damages that did not actually happen. In reality, these damages were somehow simulated.\n",
        "\n",
        "The process of fraud analysis consumes time and effort from the company's analysts. Typically, this process is carried out on a random sample of all received claims. However, the insurance company aims to be more accurate in its decisions while minimizing the number of fraud cases.\n",
        "\n",
        "Your role as a data scientist is to develop a model capable of identifying potential fraud for each new insurance claim. This way, the team of analysts can focus on potential fraud cases rather than a random sample."
      ],
      "metadata": {
        "id": "93j7DP0UTSDL"
      }
    },
    {
      "cell_type": "markdown",
      "source": [
        "Here's the translation of the provided text into English:\n",
        "\n",
        "| Column               | Description                                                                            |\n",
        "| -------------------- | -------------------------------------------------------------------------------------- |\n",
        "| Month                | Month of the accident                                                                  |\n",
        "| WeekOfMonth          | Week of the month of the accident                                                      |\n",
        "| DayOfWeek            | Day of the week of the accident                                                         |\n",
        "| Make                 | Vehicle make                                                                           |\n",
        "| AccidentArea         | Accident area                                                                          |\n",
        "| DayOfWeekClaimed     | Day of the week of the insurance claim                                                 |\n",
        "| MonthClaimed         | Month of the insurance claim                                                            |\n",
        "| WeekOfMonthClaimed   | Week of the month of the insurance claim                                                |\n",
        "| Sex                  | Gender of the insured                                                                 |\n",
        "| MaritalStatus        | Marital status                                                                         |\n",
        "| Age                  | Age                                                                                    |\n",
        "| Fault                | At-fault party (who caused the error)                                                   |\n",
        "| PolicyType           | Policy type                                                                            |\n",
        "| VehicleCategory      | Vehicle category                                                                       |\n",
        "| VehiclePrice         | Vehicle price                                                                          |\n",
        "| FraudFound_P         | Whether fraud is found (1) or not (0)                                                   |\n",
        "| PolicyNumber         | Policy number                                                                          |\n",
        "| RepNumber            | Number between 1 and 16                                                                |\n",
        "| Deductible           | Insurance cost                                                                         |\n",
        "| DriverRating         | Driver rating                                                                          |\n",
        "| Days_Policy_Accident | Total days between policy acquisition and accident occurrence                           |\n",
        "| Days_Policy_Claim    | Total days between policy acquisition and accident reporting                            |\n",
        "| PastNumberOfClaims   | Number of previous claims made by the vehicle owner                                      |\n",
        "| AgeOfVehicle         | Vehicle age                                                                            |\n",
        "| AgeOfPolicyHolder    | Age of the policyholder                                                                |\n",
        "| PoliceReportFiled    | Whether the accident was reported to the police                                         |\n",
        "| WitnessPresent       | Whether there were witnesses                                                           |\n",
        "| AgentType            | Internal means fraud committed by people working for the insurer                         |\n",
        "| NumberOfSuppliments  | Vehicle damages not registered at the time of the claim                                   |\n",
        "| AddressChange_Claim  | Whether the policyholder changed their address after reporting an accident and how long after |\n",
        "| NumberOfCars         | Number of cars involved in the accident                                                 |\n",
        "| Year                 | Year in which the accident occurred                                                     |\n",
        "| BasePolicy           | Type of insurance, identical to PolicyType                                              |"
      ],
      "metadata": {
        "id": "XAPJGaiUYeJG"
      }
    },
    {
      "cell_type": "markdown",
      "source": [
        "\n",
        "dataset: https://www.kaggle.com/datasets/shivamb/vehicle-claim-fraud-detection"
      ],
      "metadata": {
        "id": "GJy5GA-EQ_Y_"
      }
    },
    {
      "cell_type": "markdown",
      "source": [
        "# Methodology\n"
      ],
      "metadata": {
        "id": "58h46Zi2TJcz"
      }
    },
    {
      "cell_type": "markdown",
      "source": [
        "![Figura-3-Fases-do-Modelo-CRISP-DM_Q640[1].jpg](data:image/jpeg;base64,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)"
      ],
      "metadata": {
        "id": "mkMpGuvZZTFT"
      }
    },
    {
      "cell_type": "markdown",
      "source": [
        "# Libraries"
      ],
      "metadata": {
        "id": "RqBzgPR7Mb39"
      }
    },
    {
      "cell_type": "code",
      "source": [
        "import numpy as np\n",
        "import pandas as pd\n",
        "\n",
        "from sklearn.model_selection import train_test_split\n",
        "\n",
        "from sklearn.compose import ColumnTransformer\n",
        "from sklearn.compose import make_column_selector as selector\n",
        "\n",
        "from sklearn.preprocessing import OneHotEncoder\n",
        "from sklearn.preprocessing import StandardScaler\n",
        "\n",
        "from sklearn.linear_model import LogisticRegression\n",
        "from sklearn.neighbors import KNeighborsClassifier\n",
        "from sklearn.tree import DecisionTreeClassifier\n",
        "\n",
        "from imblearn.pipeline import Pipeline\n",
        "from imblearn.over_sampling import RandomOverSampler, SMOTE, ADASYN\n",
        "from imblearn.under_sampling import RandomUnderSampler, NearMiss"
      ],
      "metadata": {
        "id": "Gmyu97InMZuS"
      },
      "execution_count": null,
      "outputs": []
    },
    {
      "cell_type": "markdown",
      "source": [
        "# 1.0 Data Understanding"
      ],
      "metadata": {
        "id": "206eAvtgaaH6"
      }
    },
    {
      "cell_type": "markdown",
      "source": [
        "## 1.1 Data Ingestion"
      ],
      "metadata": {
        "id": "LC50n28EMuNL"
      }
    },
    {
      "cell_type": "code",
      "source": [
        "df = pd.read_csv('vehicle-insurance-claim.csv')\n",
        "df.head()"
      ],
      "metadata": {
        "colab": {
          "base_uri": "https://localhost:8080/",
          "height": 300
        },
        "id": "Jx3RMpAYMhO8",
        "outputId": "09a9eb91-b6aa-444f-8dbc-45bd00696d09"
      },
      "execution_count": null,
      "outputs": [
        {
          "output_type": "execute_result",
          "data": {
            "text/plain": [
              "  Month  WeekOfMonth  DayOfWeek    Make AccidentArea DayOfWeekClaimed  \\\n",
              "0   Dec            5  Wednesday   Honda        Urban          Tuesday   \n",
              "1   Jan            3  Wednesday   Honda        Urban           Monday   \n",
              "2   Oct            5     Friday   Honda        Urban         Thursday   \n",
              "3   Jun            2   Saturday  Toyota        Rural           Friday   \n",
              "4   Jan            5     Monday   Honda        Urban          Tuesday   \n",
              "\n",
              "  MonthClaimed  WeekOfMonthClaimed     Sex MaritalStatus  ...  AgeOfVehicle  \\\n",
              "0          Jan                   1  Female        Single  ...       3 years   \n",
              "1          Jan                   4    Male        Single  ...       6 years   \n",
              "2          Nov                   2    Male       Married  ...       7 years   \n",
              "3          Jul                   1    Male       Married  ...   more than 7   \n",
              "4          Feb                   2  Female        Single  ...       5 years   \n",
              "\n",
              "  AgeOfPolicyHolder PoliceReportFiled WitnessPresent AgentType  \\\n",
              "0          26 to 30                No             No  External   \n",
              "1          31 to 35               Yes             No  External   \n",
              "2          41 to 50                No             No  External   \n",
              "3          51 to 65               Yes             No  External   \n",
              "4          31 to 35                No             No  External   \n",
              "\n",
              "   NumberOfSuppliments  AddressChange_Claim  NumberOfCars  Year  BasePolicy  \n",
              "0                 none               1 year        3 to 4  1994   Liability  \n",
              "1                 none            no change     1 vehicle  1994   Collision  \n",
              "2                 none            no change     1 vehicle  1994   Collision  \n",
              "3          more than 5            no change     1 vehicle  1994   Liability  \n",
              "4                 none            no change     1 vehicle  1994   Collision  \n",
              "\n",
              "[5 rows x 33 columns]"
            ],
            "text/html": [
              "\n",
              "  <div id=\"df-7a27c0a6-a0a8-4efb-b150-ca5c12ebd02f\">\n",
              "    <div class=\"colab-df-container\">\n",
              "      <div>\n",
              "<style scoped>\n",
              "    .dataframe tbody tr th:only-of-type {\n",
              "        vertical-align: middle;\n",
              "    }\n",
              "\n",
              "    .dataframe tbody tr th {\n",
              "        vertical-align: top;\n",
              "    }\n",
              "\n",
              "    .dataframe thead th {\n",
              "        text-align: right;\n",
              "    }\n",
              "</style>\n",
              "<table border=\"1\" class=\"dataframe\">\n",
              "  <thead>\n",
              "    <tr style=\"text-align: right;\">\n",
              "      <th></th>\n",
              "      <th>Month</th>\n",
              "      <th>WeekOfMonth</th>\n",
              "      <th>DayOfWeek</th>\n",
              "      <th>Make</th>\n",
              "      <th>AccidentArea</th>\n",
              "      <th>DayOfWeekClaimed</th>\n",
              "      <th>MonthClaimed</th>\n",
              "      <th>WeekOfMonthClaimed</th>\n",
              "      <th>Sex</th>\n",
              "      <th>MaritalStatus</th>\n",
              "      <th>...</th>\n",
              "      <th>AgeOfVehicle</th>\n",
              "      <th>AgeOfPolicyHolder</th>\n",
              "      <th>PoliceReportFiled</th>\n",
              "      <th>WitnessPresent</th>\n",
              "      <th>AgentType</th>\n",
              "      <th>NumberOfSuppliments</th>\n",
              "      <th>AddressChange_Claim</th>\n",
              "      <th>NumberOfCars</th>\n",
              "      <th>Year</th>\n",
              "      <th>BasePolicy</th>\n",
              "    </tr>\n",
              "  </thead>\n",
              "  <tbody>\n",
              "    <tr>\n",
              "      <th>0</th>\n",
              "      <td>Dec</td>\n",
              "      <td>5</td>\n",
              "      <td>Wednesday</td>\n",
              "      <td>Honda</td>\n",
              "      <td>Urban</td>\n",
              "      <td>Tuesday</td>\n",
              "      <td>Jan</td>\n",
              "      <td>1</td>\n",
              "      <td>Female</td>\n",
              "      <td>Single</td>\n",
              "      <td>...</td>\n",
              "      <td>3 years</td>\n",
              "      <td>26 to 30</td>\n",
              "      <td>No</td>\n",
              "      <td>No</td>\n",
              "      <td>External</td>\n",
              "      <td>none</td>\n",
              "      <td>1 year</td>\n",
              "      <td>3 to 4</td>\n",
              "      <td>1994</td>\n",
              "      <td>Liability</td>\n",
              "    </tr>\n",
              "    <tr>\n",
              "      <th>1</th>\n",
              "      <td>Jan</td>\n",
              "      <td>3</td>\n",
              "      <td>Wednesday</td>\n",
              "      <td>Honda</td>\n",
              "      <td>Urban</td>\n",
              "      <td>Monday</td>\n",
              "      <td>Jan</td>\n",
              "      <td>4</td>\n",
              "      <td>Male</td>\n",
              "      <td>Single</td>\n",
              "      <td>...</td>\n",
              "      <td>6 years</td>\n",
              "      <td>31 to 35</td>\n",
              "      <td>Yes</td>\n",
              "      <td>No</td>\n",
              "      <td>External</td>\n",
              "      <td>none</td>\n",
              "      <td>no change</td>\n",
              "      <td>1 vehicle</td>\n",
              "      <td>1994</td>\n",
              "      <td>Collision</td>\n",
              "    </tr>\n",
              "    <tr>\n",
              "      <th>2</th>\n",
              "      <td>Oct</td>\n",
              "      <td>5</td>\n",
              "      <td>Friday</td>\n",
              "      <td>Honda</td>\n",
              "      <td>Urban</td>\n",
              "      <td>Thursday</td>\n",
              "      <td>Nov</td>\n",
              "      <td>2</td>\n",
              "      <td>Male</td>\n",
              "      <td>Married</td>\n",
              "      <td>...</td>\n",
              "      <td>7 years</td>\n",
              "      <td>41 to 50</td>\n",
              "      <td>No</td>\n",
              "      <td>No</td>\n",
              "      <td>External</td>\n",
              "      <td>none</td>\n",
              "      <td>no change</td>\n",
              "      <td>1 vehicle</td>\n",
              "      <td>1994</td>\n",
              "      <td>Collision</td>\n",
              "    </tr>\n",
              "    <tr>\n",
              "      <th>3</th>\n",
              "      <td>Jun</td>\n",
              "      <td>2</td>\n",
              "      <td>Saturday</td>\n",
              "      <td>Toyota</td>\n",
              "      <td>Rural</td>\n",
              "      <td>Friday</td>\n",
              "      <td>Jul</td>\n",
              "      <td>1</td>\n",
              "      <td>Male</td>\n",
              "      <td>Married</td>\n",
              "      <td>...</td>\n",
              "      <td>more than 7</td>\n",
              "      <td>51 to 65</td>\n",
              "      <td>Yes</td>\n",
              "      <td>No</td>\n",
              "      <td>External</td>\n",
              "      <td>more than 5</td>\n",
              "      <td>no change</td>\n",
              "      <td>1 vehicle</td>\n",
              "      <td>1994</td>\n",
              "      <td>Liability</td>\n",
              "    </tr>\n",
              "    <tr>\n",
              "      <th>4</th>\n",
              "      <td>Jan</td>\n",
              "      <td>5</td>\n",
              "      <td>Monday</td>\n",
              "      <td>Honda</td>\n",
              "      <td>Urban</td>\n",
              "      <td>Tuesday</td>\n",
              "      <td>Feb</td>\n",
              "      <td>2</td>\n",
              "      <td>Female</td>\n",
              "      <td>Single</td>\n",
              "      <td>...</td>\n",
              "      <td>5 years</td>\n",
              "      <td>31 to 35</td>\n",
              "      <td>No</td>\n",
              "      <td>No</td>\n",
              "      <td>External</td>\n",
              "      <td>none</td>\n",
              "      <td>no change</td>\n",
              "      <td>1 vehicle</td>\n",
              "      <td>1994</td>\n",
              "      <td>Collision</td>\n",
              "    </tr>\n",
              "  </tbody>\n",
              "</table>\n",
              "<p>5 rows × 33 columns</p>\n",
              "</div>\n",
              "      <button class=\"colab-df-convert\" onclick=\"convertToInteractive('df-7a27c0a6-a0a8-4efb-b150-ca5c12ebd02f')\"\n",
              "              title=\"Convert this dataframe to an interactive table.\"\n",
              "              style=\"display:none;\">\n",
              "        \n",
              "  <svg xmlns=\"http://www.w3.org/2000/svg\" height=\"24px\"viewBox=\"0 0 24 24\"\n",
              "       width=\"24px\">\n",
              "    <path d=\"M0 0h24v24H0V0z\" fill=\"none\"/>\n",
              "    <path d=\"M18.56 5.44l.94 2.06.94-2.06 2.06-.94-2.06-.94-.94-2.06-.94 2.06-2.06.94zm-11 1L8.5 8.5l.94-2.06 2.06-.94-2.06-.94L8.5 2.5l-.94 2.06-2.06.94zm10 10l.94 2.06.94-2.06 2.06-.94-2.06-.94-.94-2.06-.94 2.06-2.06.94z\"/><path d=\"M17.41 7.96l-1.37-1.37c-.4-.4-.92-.59-1.43-.59-.52 0-1.04.2-1.43.59L10.3 9.45l-7.72 7.72c-.78.78-.78 2.05 0 2.83L4 21.41c.39.39.9.59 1.41.59.51 0 1.02-.2 1.41-.59l7.78-7.78 2.81-2.81c.8-.78.8-2.07 0-2.86zM5.41 20L4 18.59l7.72-7.72 1.47 1.35L5.41 20z\"/>\n",
              "  </svg>\n",
              "      </button>\n",
              "      \n",
              "  <style>\n",
              "    .colab-df-container {\n",
              "      display:flex;\n",
              "      flex-wrap:wrap;\n",
              "      gap: 12px;\n",
              "    }\n",
              "\n",
              "    .colab-df-convert {\n",
              "      background-color: #E8F0FE;\n",
              "      border: none;\n",
              "      border-radius: 50%;\n",
              "      cursor: pointer;\n",
              "      display: none;\n",
              "      fill: #1967D2;\n",
              "      height: 32px;\n",
              "      padding: 0 0 0 0;\n",
              "      width: 32px;\n",
              "    }\n",
              "\n",
              "    .colab-df-convert:hover {\n",
              "      background-color: #E2EBFA;\n",
              "      box-shadow: 0px 1px 2px rgba(60, 64, 67, 0.3), 0px 1px 3px 1px rgba(60, 64, 67, 0.15);\n",
              "      fill: #174EA6;\n",
              "    }\n",
              "\n",
              "    [theme=dark] .colab-df-convert {\n",
              "      background-color: #3B4455;\n",
              "      fill: #D2E3FC;\n",
              "    }\n",
              "\n",
              "    [theme=dark] .colab-df-convert:hover {\n",
              "      background-color: #434B5C;\n",
              "      box-shadow: 0px 1px 3px 1px rgba(0, 0, 0, 0.15);\n",
              "      filter: drop-shadow(0px 1px 2px rgba(0, 0, 0, 0.3));\n",
              "      fill: #FFFFFF;\n",
              "    }\n",
              "  </style>\n",
              "\n",
              "      <script>\n",
              "        const buttonEl =\n",
              "          document.querySelector('#df-7a27c0a6-a0a8-4efb-b150-ca5c12ebd02f button.colab-df-convert');\n",
              "        buttonEl.style.display =\n",
              "          google.colab.kernel.accessAllowed ? 'block' : 'none';\n",
              "\n",
              "        async function convertToInteractive(key) {\n",
              "          const element = document.querySelector('#df-7a27c0a6-a0a8-4efb-b150-ca5c12ebd02f');\n",
              "          const dataTable =\n",
              "            await google.colab.kernel.invokeFunction('convertToInteractive',\n",
              "                                                     [key], {});\n",
              "          if (!dataTable) return;\n",
              "\n",
              "          const docLinkHtml = 'Like what you see? Visit the ' +\n",
              "            '<a target=\"_blank\" href=https://colab.research.google.com/notebooks/data_table.ipynb>data table notebook</a>'\n",
              "            + ' to learn more about interactive tables.';\n",
              "          element.innerHTML = '';\n",
              "          dataTable['output_type'] = 'display_data';\n",
              "          await google.colab.output.renderOutput(dataTable, element);\n",
              "          const docLink = document.createElement('div');\n",
              "          docLink.innerHTML = docLinkHtml;\n",
              "          element.appendChild(docLink);\n",
              "        }\n",
              "      </script>\n",
              "    </div>\n",
              "  </div>\n",
              "  "
            ]
          },
          "metadata": {},
          "execution_count": 2
        }
      ]
    },
    {
      "cell_type": "markdown",
      "source": [
        "## 1.2 Dimensions"
      ],
      "metadata": {
        "id": "xqMt9WJSMtiI"
      }
    },
    {
      "cell_type": "code",
      "source": [
        "df.shape"
      ],
      "metadata": {
        "colab": {
          "base_uri": "https://localhost:8080/"
        },
        "id": "KZFu-v7HMzs_",
        "outputId": "02deaa82-8278-4a0f-d1b7-2b0199524602"
      },
      "execution_count": null,
      "outputs": [
        {
          "output_type": "execute_result",
          "data": {
            "text/plain": [
              "(15420, 33)"
            ]
          },
          "metadata": {},
          "execution_count": 3
        }
      ]
    },
    {
      "cell_type": "markdown",
      "source": [
        "## 1.3 Data types"
      ],
      "metadata": {
        "id": "t91ZGqVgM9W8"
      }
    },
    {
      "cell_type": "code",
      "source": [
        "df.dtypes"
      ],
      "metadata": {
        "colab": {
          "base_uri": "https://localhost:8080/"
        },
        "id": "ug6iSHWlM_yk",
        "outputId": "2854abb2-5270-4b3e-ebf1-61fffa6621a6"
      },
      "execution_count": null,
      "outputs": [
        {
          "output_type": "execute_result",
          "data": {
            "text/plain": [
              "Month                   object\n",
              "WeekOfMonth              int64\n",
              "DayOfWeek               object\n",
              "Make                    object\n",
              "AccidentArea            object\n",
              "DayOfWeekClaimed        object\n",
              "MonthClaimed            object\n",
              "WeekOfMonthClaimed       int64\n",
              "Sex                     object\n",
              "MaritalStatus           object\n",
              "Age                      int64\n",
              "Fault                   object\n",
              "PolicyType              object\n",
              "VehicleCategory         object\n",
              "VehiclePrice            object\n",
              "FraudFound_P             int64\n",
              "PolicyNumber             int64\n",
              "RepNumber                int64\n",
              "Deductible               int64\n",
              "DriverRating             int64\n",
              "Days_Policy_Accident    object\n",
              "Days_Policy_Claim       object\n",
              "PastNumberOfClaims      object\n",
              "AgeOfVehicle            object\n",
              "AgeOfPolicyHolder       object\n",
              "PoliceReportFiled       object\n",
              "WitnessPresent          object\n",
              "AgentType               object\n",
              "NumberOfSuppliments     object\n",
              "AddressChange_Claim     object\n",
              "NumberOfCars            object\n",
              "Year                     int64\n",
              "BasePolicy              object\n",
              "dtype: object"
            ]
          },
          "metadata": {},
          "execution_count": 4
        }
      ]
    },
    {
      "cell_type": "code",
      "source": [
        "df['PolicyNumber'] = df['PolicyNumber'].astype('object')"
      ],
      "metadata": {
        "id": "qROIuaNzOL13"
      },
      "execution_count": null,
      "outputs": []
    },
    {
      "cell_type": "markdown",
      "source": [
        "## 1.4 Class distribution"
      ],
      "metadata": {
        "id": "RTE90ZOhNLqw"
      }
    },
    {
      "cell_type": "code",
      "source": [
        "df['FraudFound_P'].value_counts(normalize=True) * 100"
      ],
      "metadata": {
        "colab": {
          "base_uri": "https://localhost:8080/"
        },
        "id": "DFwz_gG6NJIY",
        "outputId": "d1669d6b-6823-4d8e-9e85-c1ed8381cff0"
      },
      "execution_count": null,
      "outputs": [
        {
          "output_type": "execute_result",
          "data": {
            "text/plain": [
              "0    94.014267\n",
              "1     5.985733\n",
              "Name: FraudFound_P, dtype: float64"
            ]
          },
          "metadata": {},
          "execution_count": 6
        }
      ]
    },
    {
      "cell_type": "markdown",
      "source": [
        "## 1.5 Missing Data"
      ],
      "metadata": {
        "id": "l2QGOpqdNauk"
      }
    },
    {
      "cell_type": "code",
      "source": [
        "df.isna().sum().sum()"
      ],
      "metadata": {
        "colab": {
          "base_uri": "https://localhost:8080/"
        },
        "id": "sb_6lofjNl88",
        "outputId": "91cc65af-b35c-4d1d-be72-724eae59403d"
      },
      "execution_count": null,
      "outputs": [
        {
          "output_type": "execute_result",
          "data": {
            "text/plain": [
              "0"
            ]
          },
          "metadata": {},
          "execution_count": 7
        }
      ]
    },
    {
      "cell_type": "markdown",
      "source": [
        "## 1.6 Duplicated Data"
      ],
      "metadata": {
        "id": "keZcR6gDNiB5"
      }
    },
    {
      "cell_type": "code",
      "source": [
        "df[df.duplicated()].shape[0]"
      ],
      "metadata": {
        "colab": {
          "base_uri": "https://localhost:8080/"
        },
        "id": "LtlRNd6qNtLR",
        "outputId": "53ac1c55-4124-4c5f-b703-269105e7b6c2"
      },
      "execution_count": null,
      "outputs": [
        {
          "output_type": "execute_result",
          "data": {
            "text/plain": [
              "0"
            ]
          },
          "metadata": {},
          "execution_count": 8
        }
      ]
    },
    {
      "cell_type": "markdown",
      "source": [
        "## 1.7 Data description"
      ],
      "metadata": {
        "id": "ps0uRRR-Njuc"
      }
    },
    {
      "cell_type": "markdown",
      "source": [
        "### Numeric Data\n"
      ],
      "metadata": {
        "id": "zqmjBz7QN4KN"
      }
    },
    {
      "cell_type": "code",
      "source": [
        "df.describe(include=['int64']).T"
      ],
      "metadata": {
        "colab": {
          "base_uri": "https://localhost:8080/",
          "height": 300
        },
        "id": "TIqAWUmANwzV",
        "outputId": "f1c80c38-07d7-4d4a-c721-274812ec46e4"
      },
      "execution_count": null,
      "outputs": [
        {
          "output_type": "execute_result",
          "data": {
            "text/plain": [
              "                      count         mean        std     min     25%     50%  \\\n",
              "WeekOfMonth         15420.0     2.788586   1.287585     1.0     2.0     3.0   \n",
              "WeekOfMonthClaimed  15420.0     2.693969   1.259115     1.0     2.0     3.0   \n",
              "Age                 15420.0    39.855707  13.492377     0.0    31.0    38.0   \n",
              "FraudFound_P        15420.0     0.059857   0.237230     0.0     0.0     0.0   \n",
              "RepNumber           15420.0     8.483268   4.599948     1.0     5.0     8.0   \n",
              "Deductible          15420.0   407.704280  43.950998   300.0   400.0   400.0   \n",
              "DriverRating        15420.0     2.487808   1.119453     1.0     1.0     2.0   \n",
              "Year                15420.0  1994.866472   0.803313  1994.0  1994.0  1995.0   \n",
              "\n",
              "                       75%     max  \n",
              "WeekOfMonth            4.0     5.0  \n",
              "WeekOfMonthClaimed     4.0     5.0  \n",
              "Age                   48.0    80.0  \n",
              "FraudFound_P           0.0     1.0  \n",
              "RepNumber             12.0    16.0  \n",
              "Deductible           400.0   700.0  \n",
              "DriverRating           3.0     4.0  \n",
              "Year                1996.0  1996.0  "
            ],
            "text/html": [
              "\n",
              "  <div id=\"df-a281036a-76b2-4edc-ba2b-3150b548e043\">\n",
              "    <div class=\"colab-df-container\">\n",
              "      <div>\n",
              "<style scoped>\n",
              "    .dataframe tbody tr th:only-of-type {\n",
              "        vertical-align: middle;\n",
              "    }\n",
              "\n",
              "    .dataframe tbody tr th {\n",
              "        vertical-align: top;\n",
              "    }\n",
              "\n",
              "    .dataframe thead th {\n",
              "        text-align: right;\n",
              "    }\n",
              "</style>\n",
              "<table border=\"1\" class=\"dataframe\">\n",
              "  <thead>\n",
              "    <tr style=\"text-align: right;\">\n",
              "      <th></th>\n",
              "      <th>count</th>\n",
              "      <th>mean</th>\n",
              "      <th>std</th>\n",
              "      <th>min</th>\n",
              "      <th>25%</th>\n",
              "      <th>50%</th>\n",
              "      <th>75%</th>\n",
              "      <th>max</th>\n",
              "    </tr>\n",
              "  </thead>\n",
              "  <tbody>\n",
              "    <tr>\n",
              "      <th>WeekOfMonth</th>\n",
              "      <td>15420.0</td>\n",
              "      <td>2.788586</td>\n",
              "      <td>1.287585</td>\n",
              "      <td>1.0</td>\n",
              "      <td>2.0</td>\n",
              "      <td>3.0</td>\n",
              "      <td>4.0</td>\n",
              "      <td>5.0</td>\n",
              "    </tr>\n",
              "    <tr>\n",
              "      <th>WeekOfMonthClaimed</th>\n",
              "      <td>15420.0</td>\n",
              "      <td>2.693969</td>\n",
              "      <td>1.259115</td>\n",
              "      <td>1.0</td>\n",
              "      <td>2.0</td>\n",
              "      <td>3.0</td>\n",
              "      <td>4.0</td>\n",
              "      <td>5.0</td>\n",
              "    </tr>\n",
              "    <tr>\n",
              "      <th>Age</th>\n",
              "      <td>15420.0</td>\n",
              "      <td>39.855707</td>\n",
              "      <td>13.492377</td>\n",
              "      <td>0.0</td>\n",
              "      <td>31.0</td>\n",
              "      <td>38.0</td>\n",
              "      <td>48.0</td>\n",
              "      <td>80.0</td>\n",
              "    </tr>\n",
              "    <tr>\n",
              "      <th>FraudFound_P</th>\n",
              "      <td>15420.0</td>\n",
              "      <td>0.059857</td>\n",
              "      <td>0.237230</td>\n",
              "      <td>0.0</td>\n",
              "      <td>0.0</td>\n",
              "      <td>0.0</td>\n",
              "      <td>0.0</td>\n",
              "      <td>1.0</td>\n",
              "    </tr>\n",
              "    <tr>\n",
              "      <th>RepNumber</th>\n",
              "      <td>15420.0</td>\n",
              "      <td>8.483268</td>\n",
              "      <td>4.599948</td>\n",
              "      <td>1.0</td>\n",
              "      <td>5.0</td>\n",
              "      <td>8.0</td>\n",
              "      <td>12.0</td>\n",
              "      <td>16.0</td>\n",
              "    </tr>\n",
              "    <tr>\n",
              "      <th>Deductible</th>\n",
              "      <td>15420.0</td>\n",
              "      <td>407.704280</td>\n",
              "      <td>43.950998</td>\n",
              "      <td>300.0</td>\n",
              "      <td>400.0</td>\n",
              "      <td>400.0</td>\n",
              "      <td>400.0</td>\n",
              "      <td>700.0</td>\n",
              "    </tr>\n",
              "    <tr>\n",
              "      <th>DriverRating</th>\n",
              "      <td>15420.0</td>\n",
              "      <td>2.487808</td>\n",
              "      <td>1.119453</td>\n",
              "      <td>1.0</td>\n",
              "      <td>1.0</td>\n",
              "      <td>2.0</td>\n",
              "      <td>3.0</td>\n",
              "      <td>4.0</td>\n",
              "    </tr>\n",
              "    <tr>\n",
              "      <th>Year</th>\n",
              "      <td>15420.0</td>\n",
              "      <td>1994.866472</td>\n",
              "      <td>0.803313</td>\n",
              "      <td>1994.0</td>\n",
              "      <td>1994.0</td>\n",
              "      <td>1995.0</td>\n",
              "      <td>1996.0</td>\n",
              "      <td>1996.0</td>\n",
              "    </tr>\n",
              "  </tbody>\n",
              "</table>\n",
              "</div>\n",
              "      <button class=\"colab-df-convert\" onclick=\"convertToInteractive('df-a281036a-76b2-4edc-ba2b-3150b548e043')\"\n",
              "              title=\"Convert this dataframe to an interactive table.\"\n",
              "              style=\"display:none;\">\n",
              "        \n",
              "  <svg xmlns=\"http://www.w3.org/2000/svg\" height=\"24px\"viewBox=\"0 0 24 24\"\n",
              "       width=\"24px\">\n",
              "    <path d=\"M0 0h24v24H0V0z\" fill=\"none\"/>\n",
              "    <path d=\"M18.56 5.44l.94 2.06.94-2.06 2.06-.94-2.06-.94-.94-2.06-.94 2.06-2.06.94zm-11 1L8.5 8.5l.94-2.06 2.06-.94-2.06-.94L8.5 2.5l-.94 2.06-2.06.94zm10 10l.94 2.06.94-2.06 2.06-.94-2.06-.94-.94-2.06-.94 2.06-2.06.94z\"/><path d=\"M17.41 7.96l-1.37-1.37c-.4-.4-.92-.59-1.43-.59-.52 0-1.04.2-1.43.59L10.3 9.45l-7.72 7.72c-.78.78-.78 2.05 0 2.83L4 21.41c.39.39.9.59 1.41.59.51 0 1.02-.2 1.41-.59l7.78-7.78 2.81-2.81c.8-.78.8-2.07 0-2.86zM5.41 20L4 18.59l7.72-7.72 1.47 1.35L5.41 20z\"/>\n",
              "  </svg>\n",
              "      </button>\n",
              "      \n",
              "  <style>\n",
              "    .colab-df-container {\n",
              "      display:flex;\n",
              "      flex-wrap:wrap;\n",
              "      gap: 12px;\n",
              "    }\n",
              "\n",
              "    .colab-df-convert {\n",
              "      background-color: #E8F0FE;\n",
              "      border: none;\n",
              "      border-radius: 50%;\n",
              "      cursor: pointer;\n",
              "      display: none;\n",
              "      fill: #1967D2;\n",
              "      height: 32px;\n",
              "      padding: 0 0 0 0;\n",
              "      width: 32px;\n",
              "    }\n",
              "\n",
              "    .colab-df-convert:hover {\n",
              "      background-color: #E2EBFA;\n",
              "      box-shadow: 0px 1px 2px rgba(60, 64, 67, 0.3), 0px 1px 3px 1px rgba(60, 64, 67, 0.15);\n",
              "      fill: #174EA6;\n",
              "    }\n",
              "\n",
              "    [theme=dark] .colab-df-convert {\n",
              "      background-color: #3B4455;\n",
              "      fill: #D2E3FC;\n",
              "    }\n",
              "\n",
              "    [theme=dark] .colab-df-convert:hover {\n",
              "      background-color: #434B5C;\n",
              "      box-shadow: 0px 1px 3px 1px rgba(0, 0, 0, 0.15);\n",
              "      filter: drop-shadow(0px 1px 2px rgba(0, 0, 0, 0.3));\n",
              "      fill: #FFFFFF;\n",
              "    }\n",
              "  </style>\n",
              "\n",
              "      <script>\n",
              "        const buttonEl =\n",
              "          document.querySelector('#df-a281036a-76b2-4edc-ba2b-3150b548e043 button.colab-df-convert');\n",
              "        buttonEl.style.display =\n",
              "          google.colab.kernel.accessAllowed ? 'block' : 'none';\n",
              "\n",
              "        async function convertToInteractive(key) {\n",
              "          const element = document.querySelector('#df-a281036a-76b2-4edc-ba2b-3150b548e043');\n",
              "          const dataTable =\n",
              "            await google.colab.kernel.invokeFunction('convertToInteractive',\n",
              "                                                     [key], {});\n",
              "          if (!dataTable) return;\n",
              "\n",
              "          const docLinkHtml = 'Like what you see? Visit the ' +\n",
              "            '<a target=\"_blank\" href=https://colab.research.google.com/notebooks/data_table.ipynb>data table notebook</a>'\n",
              "            + ' to learn more about interactive tables.';\n",
              "          element.innerHTML = '';\n",
              "          dataTable['output_type'] = 'display_data';\n",
              "          await google.colab.output.renderOutput(dataTable, element);\n",
              "          const docLink = document.createElement('div');\n",
              "          docLink.innerHTML = docLinkHtml;\n",
              "          element.appendChild(docLink);\n",
              "        }\n",
              "      </script>\n",
              "    </div>\n",
              "  </div>\n",
              "  "
            ]
          },
          "metadata": {},
          "execution_count": 9
        }
      ]
    },
    {
      "cell_type": "markdown",
      "source": [
        "### Categoric Data"
      ],
      "metadata": {
        "id": "Kp5KAnNdN6AZ"
      }
    },
    {
      "cell_type": "code",
      "source": [
        "df.describe(include=['object']).T"
      ],
      "metadata": {
        "colab": {
          "base_uri": "https://localhost:8080/",
          "height": 833
        },
        "id": "HJM1d1wcN1bB",
        "outputId": "f92dea03-91a9-4865-d85a-acc39e0ab15c"
      },
      "execution_count": null,
      "outputs": [
        {
          "output_type": "execute_result",
          "data": {
            "text/plain": [
              "                      count unique                top   freq\n",
              "Month                 15420     12                Jan   1411\n",
              "DayOfWeek             15420      7             Monday   2616\n",
              "Make                  15420     19            Pontiac   3837\n",
              "AccidentArea          15420      2              Urban  13822\n",
              "DayOfWeekClaimed      15420      8             Monday   3757\n",
              "MonthClaimed          15420     13                Jan   1446\n",
              "Sex                   15420      2               Male  13000\n",
              "MaritalStatus         15420      4            Married  10625\n",
              "Fault                 15420      2      Policy Holder  11230\n",
              "PolicyType            15420      9  Sedan - Collision   5584\n",
              "VehicleCategory       15420      3              Sedan   9671\n",
              "VehiclePrice          15420      6     20000 to 29000   8079\n",
              "PolicyNumber          15420  15420                  1      1\n",
              "Days_Policy_Accident  15420      5       more than 30  15247\n",
              "Days_Policy_Claim     15420      4       more than 30  15342\n",
              "PastNumberOfClaims    15420      4             2 to 4   5485\n",
              "AgeOfVehicle          15420      8            7 years   5807\n",
              "AgeOfPolicyHolder     15420      9           31 to 35   5593\n",
              "PoliceReportFiled     15420      2                 No  14992\n",
              "WitnessPresent        15420      2                 No  15333\n",
              "AgentType             15420      2           External  15179\n",
              "NumberOfSuppliments   15420      4               none   7047\n",
              "AddressChange_Claim   15420      5          no change  14324\n",
              "NumberOfCars          15420      5          1 vehicle  14316\n",
              "BasePolicy            15420      3          Collision   5962"
            ],
            "text/html": [
              "\n",
              "  <div id=\"df-2930c634-fd2e-4aa6-8fcf-1821ed976de4\">\n",
              "    <div class=\"colab-df-container\">\n",
              "      <div>\n",
              "<style scoped>\n",
              "    .dataframe tbody tr th:only-of-type {\n",
              "        vertical-align: middle;\n",
              "    }\n",
              "\n",
              "    .dataframe tbody tr th {\n",
              "        vertical-align: top;\n",
              "    }\n",
              "\n",
              "    .dataframe thead th {\n",
              "        text-align: right;\n",
              "    }\n",
              "</style>\n",
              "<table border=\"1\" class=\"dataframe\">\n",
              "  <thead>\n",
              "    <tr style=\"text-align: right;\">\n",
              "      <th></th>\n",
              "      <th>count</th>\n",
              "      <th>unique</th>\n",
              "      <th>top</th>\n",
              "      <th>freq</th>\n",
              "    </tr>\n",
              "  </thead>\n",
              "  <tbody>\n",
              "    <tr>\n",
              "      <th>Month</th>\n",
              "      <td>15420</td>\n",
              "      <td>12</td>\n",
              "      <td>Jan</td>\n",
              "      <td>1411</td>\n",
              "    </tr>\n",
              "    <tr>\n",
              "      <th>DayOfWeek</th>\n",
              "      <td>15420</td>\n",
              "      <td>7</td>\n",
              "      <td>Monday</td>\n",
              "      <td>2616</td>\n",
              "    </tr>\n",
              "    <tr>\n",
              "      <th>Make</th>\n",
              "      <td>15420</td>\n",
              "      <td>19</td>\n",
              "      <td>Pontiac</td>\n",
              "      <td>3837</td>\n",
              "    </tr>\n",
              "    <tr>\n",
              "      <th>AccidentArea</th>\n",
              "      <td>15420</td>\n",
              "      <td>2</td>\n",
              "      <td>Urban</td>\n",
              "      <td>13822</td>\n",
              "    </tr>\n",
              "    <tr>\n",
              "      <th>DayOfWeekClaimed</th>\n",
              "      <td>15420</td>\n",
              "      <td>8</td>\n",
              "      <td>Monday</td>\n",
              "      <td>3757</td>\n",
              "    </tr>\n",
              "    <tr>\n",
              "      <th>MonthClaimed</th>\n",
              "      <td>15420</td>\n",
              "      <td>13</td>\n",
              "      <td>Jan</td>\n",
              "      <td>1446</td>\n",
              "    </tr>\n",
              "    <tr>\n",
              "      <th>Sex</th>\n",
              "      <td>15420</td>\n",
              "      <td>2</td>\n",
              "      <td>Male</td>\n",
              "      <td>13000</td>\n",
              "    </tr>\n",
              "    <tr>\n",
              "      <th>MaritalStatus</th>\n",
              "      <td>15420</td>\n",
              "      <td>4</td>\n",
              "      <td>Married</td>\n",
              "      <td>10625</td>\n",
              "    </tr>\n",
              "    <tr>\n",
              "      <th>Fault</th>\n",
              "      <td>15420</td>\n",
              "      <td>2</td>\n",
              "      <td>Policy Holder</td>\n",
              "      <td>11230</td>\n",
              "    </tr>\n",
              "    <tr>\n",
              "      <th>PolicyType</th>\n",
              "      <td>15420</td>\n",
              "      <td>9</td>\n",
              "      <td>Sedan - Collision</td>\n",
              "      <td>5584</td>\n",
              "    </tr>\n",
              "    <tr>\n",
              "      <th>VehicleCategory</th>\n",
              "      <td>15420</td>\n",
              "      <td>3</td>\n",
              "      <td>Sedan</td>\n",
              "      <td>9671</td>\n",
              "    </tr>\n",
              "    <tr>\n",
              "      <th>VehiclePrice</th>\n",
              "      <td>15420</td>\n",
              "      <td>6</td>\n",
              "      <td>20000 to 29000</td>\n",
              "      <td>8079</td>\n",
              "    </tr>\n",
              "    <tr>\n",
              "      <th>PolicyNumber</th>\n",
              "      <td>15420</td>\n",
              "      <td>15420</td>\n",
              "      <td>1</td>\n",
              "      <td>1</td>\n",
              "    </tr>\n",
              "    <tr>\n",
              "      <th>Days_Policy_Accident</th>\n",
              "      <td>15420</td>\n",
              "      <td>5</td>\n",
              "      <td>more than 30</td>\n",
              "      <td>15247</td>\n",
              "    </tr>\n",
              "    <tr>\n",
              "      <th>Days_Policy_Claim</th>\n",
              "      <td>15420</td>\n",
              "      <td>4</td>\n",
              "      <td>more than 30</td>\n",
              "      <td>15342</td>\n",
              "    </tr>\n",
              "    <tr>\n",
              "      <th>PastNumberOfClaims</th>\n",
              "      <td>15420</td>\n",
              "      <td>4</td>\n",
              "      <td>2 to 4</td>\n",
              "      <td>5485</td>\n",
              "    </tr>\n",
              "    <tr>\n",
              "      <th>AgeOfVehicle</th>\n",
              "      <td>15420</td>\n",
              "      <td>8</td>\n",
              "      <td>7 years</td>\n",
              "      <td>5807</td>\n",
              "    </tr>\n",
              "    <tr>\n",
              "      <th>AgeOfPolicyHolder</th>\n",
              "      <td>15420</td>\n",
              "      <td>9</td>\n",
              "      <td>31 to 35</td>\n",
              "      <td>5593</td>\n",
              "    </tr>\n",
              "    <tr>\n",
              "      <th>PoliceReportFiled</th>\n",
              "      <td>15420</td>\n",
              "      <td>2</td>\n",
              "      <td>No</td>\n",
              "      <td>14992</td>\n",
              "    </tr>\n",
              "    <tr>\n",
              "      <th>WitnessPresent</th>\n",
              "      <td>15420</td>\n",
              "      <td>2</td>\n",
              "      <td>No</td>\n",
              "      <td>15333</td>\n",
              "    </tr>\n",
              "    <tr>\n",
              "      <th>AgentType</th>\n",
              "      <td>15420</td>\n",
              "      <td>2</td>\n",
              "      <td>External</td>\n",
              "      <td>15179</td>\n",
              "    </tr>\n",
              "    <tr>\n",
              "      <th>NumberOfSuppliments</th>\n",
              "      <td>15420</td>\n",
              "      <td>4</td>\n",
              "      <td>none</td>\n",
              "      <td>7047</td>\n",
              "    </tr>\n",
              "    <tr>\n",
              "      <th>AddressChange_Claim</th>\n",
              "      <td>15420</td>\n",
              "      <td>5</td>\n",
              "      <td>no change</td>\n",
              "      <td>14324</td>\n",
              "    </tr>\n",
              "    <tr>\n",
              "      <th>NumberOfCars</th>\n",
              "      <td>15420</td>\n",
              "      <td>5</td>\n",
              "      <td>1 vehicle</td>\n",
              "      <td>14316</td>\n",
              "    </tr>\n",
              "    <tr>\n",
              "      <th>BasePolicy</th>\n",
              "      <td>15420</td>\n",
              "      <td>3</td>\n",
              "      <td>Collision</td>\n",
              "      <td>5962</td>\n",
              "    </tr>\n",
              "  </tbody>\n",
              "</table>\n",
              "</div>\n",
              "      <button class=\"colab-df-convert\" onclick=\"convertToInteractive('df-2930c634-fd2e-4aa6-8fcf-1821ed976de4')\"\n",
              "              title=\"Convert this dataframe to an interactive table.\"\n",
              "              style=\"display:none;\">\n",
              "        \n",
              "  <svg xmlns=\"http://www.w3.org/2000/svg\" height=\"24px\"viewBox=\"0 0 24 24\"\n",
              "       width=\"24px\">\n",
              "    <path d=\"M0 0h24v24H0V0z\" fill=\"none\"/>\n",
              "    <path d=\"M18.56 5.44l.94 2.06.94-2.06 2.06-.94-2.06-.94-.94-2.06-.94 2.06-2.06.94zm-11 1L8.5 8.5l.94-2.06 2.06-.94-2.06-.94L8.5 2.5l-.94 2.06-2.06.94zm10 10l.94 2.06.94-2.06 2.06-.94-2.06-.94-.94-2.06-.94 2.06-2.06.94z\"/><path d=\"M17.41 7.96l-1.37-1.37c-.4-.4-.92-.59-1.43-.59-.52 0-1.04.2-1.43.59L10.3 9.45l-7.72 7.72c-.78.78-.78 2.05 0 2.83L4 21.41c.39.39.9.59 1.41.59.51 0 1.02-.2 1.41-.59l7.78-7.78 2.81-2.81c.8-.78.8-2.07 0-2.86zM5.41 20L4 18.59l7.72-7.72 1.47 1.35L5.41 20z\"/>\n",
              "  </svg>\n",
              "      </button>\n",
              "      \n",
              "  <style>\n",
              "    .colab-df-container {\n",
              "      display:flex;\n",
              "      flex-wrap:wrap;\n",
              "      gap: 12px;\n",
              "    }\n",
              "\n",
              "    .colab-df-convert {\n",
              "      background-color: #E8F0FE;\n",
              "      border: none;\n",
              "      border-radius: 50%;\n",
              "      cursor: pointer;\n",
              "      display: none;\n",
              "      fill: #1967D2;\n",
              "      height: 32px;\n",
              "      padding: 0 0 0 0;\n",
              "      width: 32px;\n",
              "    }\n",
              "\n",
              "    .colab-df-convert:hover {\n",
              "      background-color: #E2EBFA;\n",
              "      box-shadow: 0px 1px 2px rgba(60, 64, 67, 0.3), 0px 1px 3px 1px rgba(60, 64, 67, 0.15);\n",
              "      fill: #174EA6;\n",
              "    }\n",
              "\n",
              "    [theme=dark] .colab-df-convert {\n",
              "      background-color: #3B4455;\n",
              "      fill: #D2E3FC;\n",
              "    }\n",
              "\n",
              "    [theme=dark] .colab-df-convert:hover {\n",
              "      background-color: #434B5C;\n",
              "      box-shadow: 0px 1px 3px 1px rgba(0, 0, 0, 0.15);\n",
              "      filter: drop-shadow(0px 1px 2px rgba(0, 0, 0, 0.3));\n",
              "      fill: #FFFFFF;\n",
              "    }\n",
              "  </style>\n",
              "\n",
              "      <script>\n",
              "        const buttonEl =\n",
              "          document.querySelector('#df-2930c634-fd2e-4aa6-8fcf-1821ed976de4 button.colab-df-convert');\n",
              "        buttonEl.style.display =\n",
              "          google.colab.kernel.accessAllowed ? 'block' : 'none';\n",
              "\n",
              "        async function convertToInteractive(key) {\n",
              "          const element = document.querySelector('#df-2930c634-fd2e-4aa6-8fcf-1821ed976de4');\n",
              "          const dataTable =\n",
              "            await google.colab.kernel.invokeFunction('convertToInteractive',\n",
              "                                                     [key], {});\n",
              "          if (!dataTable) return;\n",
              "\n",
              "          const docLinkHtml = 'Like what you see? Visit the ' +\n",
              "            '<a target=\"_blank\" href=https://colab.research.google.com/notebooks/data_table.ipynb>data table notebook</a>'\n",
              "            + ' to learn more about interactive tables.';\n",
              "          element.innerHTML = '';\n",
              "          dataTable['output_type'] = 'display_data';\n",
              "          await google.colab.output.renderOutput(dataTable, element);\n",
              "          const docLink = document.createElement('div');\n",
              "          docLink.innerHTML = docLinkHtml;\n",
              "          element.appendChild(docLink);\n",
              "        }\n",
              "      </script>\n",
              "    </div>\n",
              "  </div>\n",
              "  "
            ]
          },
          "metadata": {},
          "execution_count": 10
        }
      ]
    },
    {
      "cell_type": "code",
      "source": [
        "# Remove PolicyNumber\n",
        "# OneHot Encoding\n",
        "# StandardScaling"
      ],
      "metadata": {
        "id": "hSCALDGDOy5T"
      },
      "execution_count": null,
      "outputs": []
    },
    {
      "cell_type": "markdown",
      "source": [
        "# 2.0 Data Preparation"
      ],
      "metadata": {
        "id": "AzO50CEhafBq"
      }
    },
    {
      "cell_type": "code",
      "source": [
        "SEED = 42"
      ],
      "metadata": {
        "id": "-hepYqZIPOWZ"
      },
      "execution_count": null,
      "outputs": []
    },
    {
      "cell_type": "markdown",
      "source": [
        "## 2.1 Train-test split"
      ],
      "metadata": {
        "id": "7gqqpIU8Qb7i"
      }
    },
    {
      "cell_type": "code",
      "source": [
        "X = df.drop(columns=['PolicyNumber', 'FraudFound_P'])\n",
        "y = df['FraudFound_P']"
      ],
      "metadata": {
        "id": "dMODoq70Q1yn"
      },
      "execution_count": null,
      "outputs": []
    },
    {
      "cell_type": "code",
      "source": [
        "X_train, X_test, y_train, y_test = train_test_split(X, y, stratify=y, random_state=SEED)"
      ],
      "metadata": {
        "id": "A1bZ6QQyQk_D"
      },
      "execution_count": null,
      "outputs": []
    },
    {
      "cell_type": "markdown",
      "source": [
        "## 2.2 Pre-Processing and Pipeline"
      ],
      "metadata": {
        "id": "84Ohtg2jQfcz"
      }
    },
    {
      "cell_type": "code",
      "source": [
        "ct = ColumnTransformer(\n",
        "    [\n",
        "        ('ohe', OneHotEncoder(drop='first', handle_unknown='ignore'), selector(dtype_include=['object'])),\n",
        "        ('sse', StandardScaler(), selector(dtype_include=['int64', 'float64']))\n",
        "    ]\n",
        ")"
      ],
      "metadata": {
        "id": "ObZNDEIbQkzr"
      },
      "execution_count": null,
      "outputs": []
    },
    {
      "cell_type": "markdown",
      "source": [
        "# 3.0 Modeling"
      ],
      "metadata": {
        "id": "MP2DI6RAah1P"
      }
    },
    {
      "cell_type": "markdown",
      "source": [
        "## 3.1 Setting Algorithms"
      ],
      "metadata": {
        "id": "LrSM7x3GVJ0n"
      }
    },
    {
      "cell_type": "code",
      "source": [
        "algoritmos_ml = [\n",
        "    ['LR', LogisticRegression(random_state=42)],\n",
        "    ['KNN', KNeighborsClassifier()],\n",
        "    ['DT', DecisionTreeClassifier(random_state=42)]\n",
        "]"
      ],
      "metadata": {
        "id": "a22OHZUJRuS5"
      },
      "execution_count": null,
      "outputs": []
    },
    {
      "cell_type": "markdown",
      "source": [
        "## 3.2 Defining Balancing Algorithms"
      ],
      "metadata": {
        "id": "Gw3A6hRLVOG-"
      }
    },
    {
      "cell_type": "code",
      "source": [
        "algoritmos_balanceamento = [\n",
        "    ['SEM', None],\n",
        "    ['ROS', RandomOverSampler(random_state=42)],\n",
        "    ['SMT', SMOTE(random_state=42)],\n",
        "    ['ASY', ADASYN(random_state=42)],\n",
        "    ['RUS', RandomUnderSampler(random_state=42)],\n",
        "    ['NMI', NearMiss()]\n",
        "]"
      ],
      "metadata": {
        "id": "Yxa6WKSvTz6t"
      },
      "execution_count": null,
      "outputs": []
    },
    {
      "cell_type": "markdown",
      "source": [
        "## 3.3 Building automatic Pipelines"
      ],
      "metadata": {
        "id": "Det9sHfXVJGb"
      }
    },
    {
      "cell_type": "code",
      "source": [
        "l_pipes = []\n",
        "\n",
        "for modelo in algoritmos_ml:\n",
        "  for algo_balanc in algoritmos_balanceamento:\n",
        "    if algo_balanc[0] == 'SEM':\n",
        "      pipeline = Pipeline(\n",
        "        [\n",
        "            ('pp', ct),\n",
        "            (modelo[0], modelo[1])\n",
        "        ]\n",
        "      )\n",
        "    else:\n",
        "      pipeline = Pipeline(\n",
        "        [\n",
        "            ('pp', ct),\n",
        "            (algo_balanc[0], algo_balanc[1]),\n",
        "            (modelo[0], modelo[1])\n",
        "        ]\n",
        "      )\n",
        "\n",
        "    l_pipes.append(pipeline)"
      ],
      "metadata": {
        "id": "PHUzHjKYS7uj"
      },
      "execution_count": null,
      "outputs": []
    },
    {
      "cell_type": "markdown",
      "source": [
        "# 4.0 Evaluation"
      ],
      "metadata": {
        "id": "3xEDtte1aiCO"
      }
    },
    {
      "cell_type": "code",
      "source": [
        "from sklearn.model_selection import StratifiedKFold\n",
        "from sklearn.model_selection import cross_validate"
      ],
      "metadata": {
        "id": "FPdMJitegwtD"
      },
      "execution_count": null,
      "outputs": []
    },
    {
      "cell_type": "code",
      "source": [
        "skf = StratifiedKFold(n_splits=5, shuffle=True, random_state=SEED)"
      ],
      "metadata": {
        "id": "lIYq8vLLhYii"
      },
      "execution_count": null,
      "outputs": []
    },
    {
      "cell_type": "code",
      "source": [
        "l_results = []\n",
        "\n",
        "nomes_ml = [algo[0] for algo in algoritmos_ml]\n",
        "nomes_tec_balanc = [algo[0] for algo in algoritmos_balanceamento]\n",
        "\n",
        "i = 0\n",
        "\n",
        "for nome_ml in nomes_ml:\n",
        "  for nome_tec_balanc in nomes_tec_balanc:\n",
        "    print(nome_ml, nome_tec_balanc)\n",
        "\n",
        "    res = cross_validate(l_pipes[i], X_train, y_train, cv=skf, scoring='f1', n_jobs=-1)\n",
        "\n",
        "    l_results.append([nome_ml,\n",
        "                      nome_tec_balanc,\n",
        "                      np.round(res['test_score'].mean(), 4),\n",
        "                      np.round(res['test_score'].std(), 4)])\n",
        "    i += 1"
      ],
      "metadata": {
        "colab": {
          "base_uri": "https://localhost:8080/"
        },
        "id": "JlHyRvfdhdMo",
        "outputId": "461ad3e4-0f4e-43f7-ae08-e02c8376e605"
      },
      "execution_count": null,
      "outputs": [
        {
          "output_type": "stream",
          "name": "stdout",
          "text": [
            "LR SEM\n",
            "LR ROS\n",
            "LR SMT\n",
            "LR ASY\n",
            "LR RUS\n",
            "LR NMI\n",
            "KNN SEM\n"
          ]
        },
        {
          "output_type": "stream",
          "name": "stderr",
          "text": [
            "/usr/local/lib/python3.8/dist-packages/joblib/externals/loky/process_executor.py:700: UserWarning: A worker stopped while some jobs were given to the executor. This can be caused by a too short worker timeout or by a memory leak.\n",
            "  warnings.warn(\n"
          ]
        },
        {
          "output_type": "stream",
          "name": "stdout",
          "text": [
            "KNN ROS\n"
          ]
        },
        {
          "output_type": "stream",
          "name": "stderr",
          "text": [
            "/usr/local/lib/python3.8/dist-packages/joblib/externals/loky/process_executor.py:700: UserWarning: A worker stopped while some jobs were given to the executor. This can be caused by a too short worker timeout or by a memory leak.\n",
            "  warnings.warn(\n"
          ]
        },
        {
          "output_type": "stream",
          "name": "stdout",
          "text": [
            "KNN SMT\n",
            "KNN ASY\n"
          ]
        },
        {
          "output_type": "stream",
          "name": "stderr",
          "text": [
            "/usr/local/lib/python3.8/dist-packages/joblib/externals/loky/process_executor.py:700: UserWarning: A worker stopped while some jobs were given to the executor. This can be caused by a too short worker timeout or by a memory leak.\n",
            "  warnings.warn(\n"
          ]
        },
        {
          "output_type": "stream",
          "name": "stdout",
          "text": [
            "KNN RUS\n",
            "KNN NMI\n",
            "DT SEM\n",
            "DT ROS\n",
            "DT SMT\n",
            "DT ASY\n",
            "DT RUS\n",
            "DT NMI\n"
          ]
        }
      ]
    },
    {
      "cell_type": "code",
      "source": [
        "df_res = pd.DataFrame(l_results, columns=['ML', 'BALANCEAMENTO', 'MÉDIA F1', 'DESVIO F1']).sort_values(by=['MÉDIA F1'], ascending=False)\n",
        "df_res.reset_index(drop=True)"
      ],
      "metadata": {
        "colab": {
          "base_uri": "https://localhost:8080/",
          "height": 614
        },
        "id": "XfZoOfjliuUh",
        "outputId": "1239391c-16fa-4383-db8f-5430ff03ba97"
      },
      "execution_count": null,
      "outputs": [
        {
          "output_type": "execute_result",
          "data": {
            "text/plain": [
              "     ML BALANCEAMENTO  MÉDIA F1  DESVIO F1\n",
              "0    LR           SMT    0.2356     0.0048\n",
              "1    LR           RUS    0.2318     0.0072\n",
              "2    LR           ROS    0.2313     0.0025\n",
              "3    LR           ASY    0.2308     0.0054\n",
              "4    DT           RUS    0.2127     0.0154\n",
              "5    DT           ROS    0.2064     0.0399\n",
              "6    DT           SEM    0.1989     0.0111\n",
              "7    DT           SMT    0.1869     0.0278\n",
              "8    DT           ASY    0.1746     0.0361\n",
              "9   KNN           RUS    0.1722     0.0089\n",
              "10  KNN           ROS    0.1699     0.0170\n",
              "11  KNN           ASY    0.1695     0.0090\n",
              "12  KNN           SMT    0.1693     0.0082\n",
              "13   DT           NMI    0.1427     0.0084\n",
              "14   LR           NMI    0.1409     0.0080\n",
              "15  KNN           NMI    0.1216     0.0096\n",
              "16  KNN           SEM    0.0510     0.0056\n",
              "17   LR           SEM    0.0194     0.0209"
            ],
            "text/html": [
              "\n",
              "  <div id=\"df-17a6797b-dd98-49b8-b635-ccc72a218564\">\n",
              "    <div class=\"colab-df-container\">\n",
              "      <div>\n",
              "<style scoped>\n",
              "    .dataframe tbody tr th:only-of-type {\n",
              "        vertical-align: middle;\n",
              "    }\n",
              "\n",
              "    .dataframe tbody tr th {\n",
              "        vertical-align: top;\n",
              "    }\n",
              "\n",
              "    .dataframe thead th {\n",
              "        text-align: right;\n",
              "    }\n",
              "</style>\n",
              "<table border=\"1\" class=\"dataframe\">\n",
              "  <thead>\n",
              "    <tr style=\"text-align: right;\">\n",
              "      <th></th>\n",
              "      <th>ML</th>\n",
              "      <th>BALANCEAMENTO</th>\n",
              "      <th>MÉDIA F1</th>\n",
              "      <th>DESVIO F1</th>\n",
              "    </tr>\n",
              "  </thead>\n",
              "  <tbody>\n",
              "    <tr>\n",
              "      <th>0</th>\n",
              "      <td>LR</td>\n",
              "      <td>SMT</td>\n",
              "      <td>0.2356</td>\n",
              "      <td>0.0048</td>\n",
              "    </tr>\n",
              "    <tr>\n",
              "      <th>1</th>\n",
              "      <td>LR</td>\n",
              "      <td>RUS</td>\n",
              "      <td>0.2318</td>\n",
              "      <td>0.0072</td>\n",
              "    </tr>\n",
              "    <tr>\n",
              "      <th>2</th>\n",
              "      <td>LR</td>\n",
              "      <td>ROS</td>\n",
              "      <td>0.2313</td>\n",
              "      <td>0.0025</td>\n",
              "    </tr>\n",
              "    <tr>\n",
              "      <th>3</th>\n",
              "      <td>LR</td>\n",
              "      <td>ASY</td>\n",
              "      <td>0.2308</td>\n",
              "      <td>0.0054</td>\n",
              "    </tr>\n",
              "    <tr>\n",
              "      <th>4</th>\n",
              "      <td>DT</td>\n",
              "      <td>RUS</td>\n",
              "      <td>0.2127</td>\n",
              "      <td>0.0154</td>\n",
              "    </tr>\n",
              "    <tr>\n",
              "      <th>5</th>\n",
              "      <td>DT</td>\n",
              "      <td>ROS</td>\n",
              "      <td>0.2064</td>\n",
              "      <td>0.0399</td>\n",
              "    </tr>\n",
              "    <tr>\n",
              "      <th>6</th>\n",
              "      <td>DT</td>\n",
              "      <td>SEM</td>\n",
              "      <td>0.1989</td>\n",
              "      <td>0.0111</td>\n",
              "    </tr>\n",
              "    <tr>\n",
              "      <th>7</th>\n",
              "      <td>DT</td>\n",
              "      <td>SMT</td>\n",
              "      <td>0.1869</td>\n",
              "      <td>0.0278</td>\n",
              "    </tr>\n",
              "    <tr>\n",
              "      <th>8</th>\n",
              "      <td>DT</td>\n",
              "      <td>ASY</td>\n",
              "      <td>0.1746</td>\n",
              "      <td>0.0361</td>\n",
              "    </tr>\n",
              "    <tr>\n",
              "      <th>9</th>\n",
              "      <td>KNN</td>\n",
              "      <td>RUS</td>\n",
              "      <td>0.1722</td>\n",
              "      <td>0.0089</td>\n",
              "    </tr>\n",
              "    <tr>\n",
              "      <th>10</th>\n",
              "      <td>KNN</td>\n",
              "      <td>ROS</td>\n",
              "      <td>0.1699</td>\n",
              "      <td>0.0170</td>\n",
              "    </tr>\n",
              "    <tr>\n",
              "      <th>11</th>\n",
              "      <td>KNN</td>\n",
              "      <td>ASY</td>\n",
              "      <td>0.1695</td>\n",
              "      <td>0.0090</td>\n",
              "    </tr>\n",
              "    <tr>\n",
              "      <th>12</th>\n",
              "      <td>KNN</td>\n",
              "      <td>SMT</td>\n",
              "      <td>0.1693</td>\n",
              "      <td>0.0082</td>\n",
              "    </tr>\n",
              "    <tr>\n",
              "      <th>13</th>\n",
              "      <td>DT</td>\n",
              "      <td>NMI</td>\n",
              "      <td>0.1427</td>\n",
              "      <td>0.0084</td>\n",
              "    </tr>\n",
              "    <tr>\n",
              "      <th>14</th>\n",
              "      <td>LR</td>\n",
              "      <td>NMI</td>\n",
              "      <td>0.1409</td>\n",
              "      <td>0.0080</td>\n",
              "    </tr>\n",
              "    <tr>\n",
              "      <th>15</th>\n",
              "      <td>KNN</td>\n",
              "      <td>NMI</td>\n",
              "      <td>0.1216</td>\n",
              "      <td>0.0096</td>\n",
              "    </tr>\n",
              "    <tr>\n",
              "      <th>16</th>\n",
              "      <td>KNN</td>\n",
              "      <td>SEM</td>\n",
              "      <td>0.0510</td>\n",
              "      <td>0.0056</td>\n",
              "    </tr>\n",
              "    <tr>\n",
              "      <th>17</th>\n",
              "      <td>LR</td>\n",
              "      <td>SEM</td>\n",
              "      <td>0.0194</td>\n",
              "      <td>0.0209</td>\n",
              "    </tr>\n",
              "  </tbody>\n",
              "</table>\n",
              "</div>\n",
              "      <button class=\"colab-df-convert\" onclick=\"convertToInteractive('df-17a6797b-dd98-49b8-b635-ccc72a218564')\"\n",
              "              title=\"Convert this dataframe to an interactive table.\"\n",
              "              style=\"display:none;\">\n",
              "        \n",
              "  <svg xmlns=\"http://www.w3.org/2000/svg\" height=\"24px\"viewBox=\"0 0 24 24\"\n",
              "       width=\"24px\">\n",
              "    <path d=\"M0 0h24v24H0V0z\" fill=\"none\"/>\n",
              "    <path d=\"M18.56 5.44l.94 2.06.94-2.06 2.06-.94-2.06-.94-.94-2.06-.94 2.06-2.06.94zm-11 1L8.5 8.5l.94-2.06 2.06-.94-2.06-.94L8.5 2.5l-.94 2.06-2.06.94zm10 10l.94 2.06.94-2.06 2.06-.94-2.06-.94-.94-2.06-.94 2.06-2.06.94z\"/><path d=\"M17.41 7.96l-1.37-1.37c-.4-.4-.92-.59-1.43-.59-.52 0-1.04.2-1.43.59L10.3 9.45l-7.72 7.72c-.78.78-.78 2.05 0 2.83L4 21.41c.39.39.9.59 1.41.59.51 0 1.02-.2 1.41-.59l7.78-7.78 2.81-2.81c.8-.78.8-2.07 0-2.86zM5.41 20L4 18.59l7.72-7.72 1.47 1.35L5.41 20z\"/>\n",
              "  </svg>\n",
              "      </button>\n",
              "      \n",
              "  <style>\n",
              "    .colab-df-container {\n",
              "      display:flex;\n",
              "      flex-wrap:wrap;\n",
              "      gap: 12px;\n",
              "    }\n",
              "\n",
              "    .colab-df-convert {\n",
              "      background-color: #E8F0FE;\n",
              "      border: none;\n",
              "      border-radius: 50%;\n",
              "      cursor: pointer;\n",
              "      display: none;\n",
              "      fill: #1967D2;\n",
              "      height: 32px;\n",
              "      padding: 0 0 0 0;\n",
              "      width: 32px;\n",
              "    }\n",
              "\n",
              "    .colab-df-convert:hover {\n",
              "      background-color: #E2EBFA;\n",
              "      box-shadow: 0px 1px 2px rgba(60, 64, 67, 0.3), 0px 1px 3px 1px rgba(60, 64, 67, 0.15);\n",
              "      fill: #174EA6;\n",
              "    }\n",
              "\n",
              "    [theme=dark] .colab-df-convert {\n",
              "      background-color: #3B4455;\n",
              "      fill: #D2E3FC;\n",
              "    }\n",
              "\n",
              "    [theme=dark] .colab-df-convert:hover {\n",
              "      background-color: #434B5C;\n",
              "      box-shadow: 0px 1px 3px 1px rgba(0, 0, 0, 0.15);\n",
              "      filter: drop-shadow(0px 1px 2px rgba(0, 0, 0, 0.3));\n",
              "      fill: #FFFFFF;\n",
              "    }\n",
              "  </style>\n",
              "\n",
              "      <script>\n",
              "        const buttonEl =\n",
              "          document.querySelector('#df-17a6797b-dd98-49b8-b635-ccc72a218564 button.colab-df-convert');\n",
              "        buttonEl.style.display =\n",
              "          google.colab.kernel.accessAllowed ? 'block' : 'none';\n",
              "\n",
              "        async function convertToInteractive(key) {\n",
              "          const element = document.querySelector('#df-17a6797b-dd98-49b8-b635-ccc72a218564');\n",
              "          const dataTable =\n",
              "            await google.colab.kernel.invokeFunction('convertToInteractive',\n",
              "                                                     [key], {});\n",
              "          if (!dataTable) return;\n",
              "\n",
              "          const docLinkHtml = 'Like what you see? Visit the ' +\n",
              "            '<a target=\"_blank\" href=https://colab.research.google.com/notebooks/data_table.ipynb>data table notebook</a>'\n",
              "            + ' to learn more about interactive tables.';\n",
              "          element.innerHTML = '';\n",
              "          dataTable['output_type'] = 'display_data';\n",
              "          await google.colab.output.renderOutput(dataTable, element);\n",
              "          const docLink = document.createElement('div');\n",
              "          docLink.innerHTML = docLinkHtml;\n",
              "          element.appendChild(docLink);\n",
              "        }\n",
              "      </script>\n",
              "    </div>\n",
              "  </div>\n",
              "  "
            ]
          },
          "metadata": {},
          "execution_count": 45
        }
      ]
    },
    {
      "cell_type": "markdown",
      "source": [
        "# 5.0 Deployment"
      ],
      "metadata": {
        "id": "tLkTIbxsMq0H"
      }
    },
    {
      "cell_type": "code",
      "source": [
        "from sklearn.metrics import f1_score\n",
        "\n",
        "estimator = l_pipes[2]\n",
        "estimator.fit(X_train, y_train)\n",
        "\n",
        "y_preds = estimator.predict(X_test)\n",
        "\n",
        "f1_score(y_true=y_test, y_pred=y_preds)"
      ],
      "metadata": {
        "colab": {
          "base_uri": "https://localhost:8080/"
        },
        "id": "Posw6qP8Zq_k",
        "outputId": "bc83496c-2422-4656-b504-faa5f90c4bca"
      },
      "execution_count": null,
      "outputs": [
        {
          "output_type": "stream",
          "name": "stderr",
          "text": [
            "/usr/local/lib/python3.8/dist-packages/sklearn/linear_model/_logistic.py:814: ConvergenceWarning: lbfgs failed to converge (status=1):\n",
            "STOP: TOTAL NO. of ITERATIONS REACHED LIMIT.\n",
            "\n",
            "Increase the number of iterations (max_iter) or scale the data as shown in:\n",
            "    https://scikit-learn.org/stable/modules/preprocessing.html\n",
            "Please also refer to the documentation for alternative solver options:\n",
            "    https://scikit-learn.org/stable/modules/linear_model.html#logistic-regression\n",
            "  n_iter_i = _check_optimize_result(\n"
          ]
        },
        {
          "output_type": "execute_result",
          "data": {
            "text/plain": [
              "0.22181146025878007"
            ]
          },
          "metadata": {},
          "execution_count": 49
        }
      ]
    }
  ]
}